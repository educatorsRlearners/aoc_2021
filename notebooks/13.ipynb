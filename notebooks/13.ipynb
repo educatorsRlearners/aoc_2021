{
 "cells": [
  {
   "cell_type": "code",
   "execution_count": 50,
   "metadata": {},
   "outputs": [],
   "source": [
    "import numpy as np\n",
    "# from functools import reduce"
   ]
  },
  {
   "cell_type": "code",
   "execution_count": 61,
   "metadata": {},
   "outputs": [],
   "source": [
    "file_path = '../data/day_13_sample.txt'\n",
    "# file_path = '../data/day_13.txt'"
   ]
  },
  {
   "cell_type": "code",
   "execution_count": 62,
   "metadata": {},
   "outputs": [
    {
     "name": "stdout",
     "output_type": "stream",
     "text": [
      "17\n"
     ]
    }
   ],
   "source": [
    "with open(file_path) as f:\n",
    "    input_ = f.read().splitlines()\n",
    "\n",
    "coords, folds = [], []\n",
    "\n",
    "for line in input_:\n",
    "    if ',' in line:\n",
    "        coords.append(list(map(int, line.split(','))))\n",
    "    elif '=' in line:\n",
    "        l = line.split('=')\n",
    "        folds.append((l[0][-1], int(l[1])))\n",
    "\n",
    "coords = np.array(coords)\n",
    "\n",
    "sheet = np.zeros(np.max(coords, axis=0)[::-1]+1, dtype=bool)\n",
    "\n",
    "for (c, r) in coords:\n",
    "    sheet[r, c] = True\n",
    "\n",
    "def fold_sheet(a, fold_line):\n",
    "    axis, idx = fold_line\n",
    "    if axis == 'x':\n",
    "        return a[:,:idx] | a[:,:idx:-1]\n",
    "    elif axis == 'y':\n",
    "        return a[:idx,:] | a[:idx:-1,:]\n",
    "\n",
    "answer1 = sum(fold_sheet(sheet, folds[0]).flatten())\n",
    "# answer2 = reduce(fold_sheet, folds, sheet) # Look at output\n",
    "\n",
    "print(answer1)"
   ]
  },
  {
   "cell_type": "code",
   "execution_count": 53,
   "metadata": {},
   "outputs": [
    {
     "name": "stdout",
     "output_type": "stream",
     "text": [
      ".##....##.#..#..##..####.#..#.#..#.#..#.\n",
      "#..#....#.#..#.#..#....#.#..#.#.#..#..#.\n",
      "#.......#.####.#..#...#..####.##...#..#.\n",
      "#.......#.#..#.####..#...#..#.#.#..#..#.\n",
      "#..#.#..#.#..#.#..#.#....#..#.#.#..#..#.\n",
      ".##...##..#..#.#..#.####.#..#.#..#..##..\n"
     ]
    }
   ],
   "source": [
    "with open(file_path, 'r') as file:\n",
    "    points, folds = [line.splitlines() for line in file.read().split('\\n\\n')]\n",
    "           \n",
    "points = np.array([p.split(',') for p in points]).astype(int)\n",
    "folds = [x.split()[2].split('=') for x in folds]\n",
    "\n",
    "\n",
    "xmin = min([int(x[1]) for x in folds if x[0] == 'x'])\n",
    "\n",
    "ymin = min([int(x[1]) for x in folds if x[0] == 'y'])\n",
    "\n",
    "grid = np.zeros((ymin, xmin), int)\n",
    "\n",
    "for x, y in points:\n",
    "    for fold in folds:\n",
    "        if fold[0] == 'x':\n",
    "            x = 0 - abs(x - int(fold[1])) + int(fold[1])\n",
    "        if fold[0] == 'y':\n",
    "            y = 0 - abs(y - int(fold[1])) + int(fold[1])\n",
    "    grid[y][x] = 1\n",
    "\n",
    "for row in grid:\n",
    "    print(''.join(['#' if x else '.' for x in row]))"
   ]
  }
 ],
 "metadata": {
  "interpreter": {
   "hash": "99b8d0b9a9270acdc7b52d3eeb226e48ce2ee471221e21ec906b8eac9bbd4813"
  },
  "kernelspec": {
   "display_name": "Python 3.8.12 64-bit ('aoc': conda)",
   "language": "python",
   "name": "python3"
  },
  "language_info": {
   "codemirror_mode": {
    "name": "ipython",
    "version": 3
   },
   "file_extension": ".py",
   "mimetype": "text/x-python",
   "name": "python",
   "nbconvert_exporter": "python",
   "pygments_lexer": "ipython3",
   "version": "3.8.12"
  },
  "orig_nbformat": 4
 },
 "nbformat": 4,
 "nbformat_minor": 2
}
