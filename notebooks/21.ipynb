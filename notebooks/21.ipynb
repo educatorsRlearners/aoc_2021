{
 "cells": [
  {
   "cell_type": "markdown",
   "metadata": {},
   "source": [
    "I got as far as adding the roll of the dice to the participants' scores but missed the step where we needed to take the board position into account.\n",
    "\n",
    "Needless to say, I was way off base :D \n",
    "\n",
    "The good news is [this](https://github.com/womogenes/AoC-2021-Solutions/blob/main/day_21/day_21_p1.py) kind soul created an insanely easy to digest solution as well as a [walkthrough video](https://www.youtube.com/watch?v=tEPgMuqZZGE) explaining parts 1 and 2. Enjoy!   "
   ]
  },
  {
   "cell_type": "code",
   "execution_count": 1,
   "metadata": {},
   "outputs": [],
   "source": [
    "class Player: \n",
    "    def __init__(self, pos):\n",
    "        self.pos = pos\n",
    "        self.score = 0\n",
    "        \n",
    "    def advance(self, die):\n",
    "        self.pos += die.roll()\n",
    "        self.pos = (self.pos - 1) % 10 + 1 \n",
    "        self.score += self.pos\n",
    "    \n",
    "    def win(self):\n",
    "        return self.score >= 1000"
   ]
  },
  {
   "cell_type": "code",
   "execution_count": 9,
   "metadata": {},
   "outputs": [],
   "source": [
    "#Sample Data\n",
    "p1 = Player(4)\n",
    "p2 = Player(8)"
   ]
  },
  {
   "cell_type": "code",
   "execution_count": 10,
   "metadata": {},
   "outputs": [],
   "source": [
    "# #Test Data\n",
    "# p1 = Player(9)\n",
    "# p2 = Player(6)"
   ]
  },
  {
   "cell_type": "code",
   "execution_count": 11,
   "metadata": {},
   "outputs": [],
   "source": [
    "class Dice:\n",
    "    def __init__(self):\n",
    "        self.val = 1\n",
    "        self.rolls = 0\n",
    "    \n",
    "    def roll(self, times=3):\n",
    "        s = 0 \n",
    "        for _ in range(times):\n",
    "            s += self.val \n",
    "            self.val += 1\n",
    "        self.rolls += times \n",
    "        return s "
   ]
  },
  {
   "cell_type": "code",
   "execution_count": 12,
   "metadata": {},
   "outputs": [
    {
     "name": "stdout",
     "output_type": "stream",
     "text": [
      "Player 1 wins!\n",
      "739785\n"
     ]
    }
   ],
   "source": [
    "d = Dice()\n",
    "\n",
    "while True:\n",
    "    p1.advance(d)\n",
    "    if p1.win():\n",
    "        print(\"Player 1 wins!\")\n",
    "        ans = p2.score * d.rolls\n",
    "        break\n",
    "    \n",
    "    p2.advance(d)\n",
    "    if p2.win():\n",
    "        print(\"Player 2 wins!\")\n",
    "        ans = p1.score * d.rolls\n",
    "        break\n",
    "print(ans)"
   ]
  },
  {
   "cell_type": "code",
   "execution_count": null,
   "metadata": {},
   "outputs": [],
   "source": []
  },
  {
   "cell_type": "code",
   "execution_count": null,
   "metadata": {},
   "outputs": [],
   "source": []
  }
 ],
 "metadata": {
  "interpreter": {
   "hash": "99b8d0b9a9270acdc7b52d3eeb226e48ce2ee471221e21ec906b8eac9bbd4813"
  },
  "kernelspec": {
   "display_name": "Python 3.8.12 64-bit ('aoc': conda)",
   "language": "python",
   "name": "python3"
  },
  "language_info": {
   "codemirror_mode": {
    "name": "ipython",
    "version": 3
   },
   "file_extension": ".py",
   "mimetype": "text/x-python",
   "name": "python",
   "nbconvert_exporter": "python",
   "pygments_lexer": "ipython3",
   "version": "3.8.12"
  },
  "orig_nbformat": 4
 },
 "nbformat": 4,
 "nbformat_minor": 2
}
