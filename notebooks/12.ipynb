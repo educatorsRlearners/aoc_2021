{
 "cells": [
  {
   "cell_type": "markdown",
   "metadata": {},
   "source": [
    "This one broke me! As such, I found this [solution](https://github.com/Goldenlion5648/AdventOfCode2021/blob/master/12.py) and am in the process of working my way through understanding it.\n",
    "\n",
    "Needless to say, no stars for me today. "
   ]
  },
  {
   "cell_type": "code",
   "execution_count": 2,
   "metadata": {},
   "outputs": [],
   "source": [
    "from collections import defaultdict\n",
    "from collections import deque\n",
    "from collections import Counter"
   ]
  },
  {
   "cell_type": "code",
   "execution_count": 3,
   "metadata": {},
   "outputs": [],
   "source": [
    "def get_data(file_path):\n",
    "    with open(file_path) as file:\n",
    "        lines = file.read().splitlines()\n",
    "    return lines"
   ]
  },
  {
   "cell_type": "code",
   "execution_count": 4,
   "metadata": {},
   "outputs": [
    {
     "data": {
      "text/plain": [
       "['start-A', 'start-b', 'A-c', 'A-b', 'b-d', 'A-end', 'b-end']"
      ]
     },
     "execution_count": 4,
     "metadata": {},
     "output_type": "execute_result"
    }
   ],
   "source": [
    "file_path = '../data/day_12_sample.txt'\n",
    "\n",
    "data = get_data(file_path)\n",
    "data  "
   ]
  },
  {
   "cell_type": "code",
   "execution_count": 5,
   "metadata": {},
   "outputs": [
    {
     "data": {
      "text/plain": [
       "defaultdict(list,\n",
       "            {'start': ['A', 'b'],\n",
       "             'A': ['start', 'c', 'b', 'end'],\n",
       "             'b': ['start', 'A', 'd', 'end'],\n",
       "             'c': ['A'],\n",
       "             'd': ['b'],\n",
       "             'end': ['A', 'b']})"
      ]
     },
     "execution_count": 5,
     "metadata": {},
     "output_type": "execute_result"
    }
   ],
   "source": [
    "graph = defaultdict(list)\n",
    "\n",
    "for line in data:\n",
    "    d, c = line.split(\"-\")\n",
    "    graph[d].append(c)\n",
    "    graph[c].append(d)\n",
    "    \n",
    "graph"
   ]
  },
  {
   "cell_type": "code",
   "execution_count": 12,
   "metadata": {},
   "outputs": [
    {
     "name": "stdout",
     "output_type": "stream",
     "text": [
      "10\n",
      "36\n"
     ]
    }
   ],
   "source": [
    "def part1():\n",
    "    fringe = deque([(\"start\", [\"start\"])])\n",
    "    seen = {}\n",
    "    paths = set()\n",
    "\n",
    "    while fringe:\n",
    "        cur, seen = fringe.popleft()\n",
    "        if cur == \"end\":\n",
    "            paths.add(tuple(seen))\n",
    "            continue\n",
    "        counts = Counter(seen)\n",
    "        for x in graph[cur]:\n",
    "            if x != \"start\":\n",
    "                if x.isupper() or (counts[x] == 0):\n",
    "                    fringe.append((x, seen + [x]))\n",
    "    return len(paths) \n",
    "\n",
    "\n",
    "def part2():\n",
    "    fringe = deque([(\"start\", [\"start\"], False)])\n",
    "    seen = {}\n",
    "    paths = set()\n",
    "\n",
    "    while fringe :\n",
    "        cur, seen, used_up = fringe.popleft()\n",
    "        if cur == \"end\":\n",
    "            paths.add(tuple(seen))\n",
    "            continue\n",
    "        counts = Counter(seen)\n",
    "        for x in graph[cur]:\n",
    "            if x != \"start\":\n",
    "                if x.isupper() or (used_up and counts[x] == 0) or not used_up:\n",
    "                    fringe.append((x, seen + [x], used_up or (x.islower() and counts[x] == 1)))\n",
    "    return len(paths)\n",
    "\n",
    "\n",
    "print(part1())\n",
    "print(part2())"
   ]
  },
  {
   "cell_type": "code",
   "execution_count": null,
   "metadata": {},
   "outputs": [],
   "source": []
  }
 ],
 "metadata": {
  "interpreter": {
   "hash": "99b8d0b9a9270acdc7b52d3eeb226e48ce2ee471221e21ec906b8eac9bbd4813"
  },
  "kernelspec": {
   "display_name": "Python 3.8.12 64-bit ('aoc': conda)",
   "language": "python",
   "name": "python3"
  },
  "language_info": {
   "codemirror_mode": {
    "name": "ipython",
    "version": 3
   },
   "file_extension": ".py",
   "mimetype": "text/x-python",
   "name": "python",
   "nbconvert_exporter": "python",
   "pygments_lexer": "ipython3",
   "version": "3.8.12"
  },
  "orig_nbformat": 4
 },
 "nbformat": 4,
 "nbformat_minor": 2
}
