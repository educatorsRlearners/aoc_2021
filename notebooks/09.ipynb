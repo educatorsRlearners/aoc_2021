{
 "cells": [
  {
   "cell_type": "code",
   "execution_count": 1,
   "metadata": {},
   "outputs": [],
   "source": [
    "import numpy as np \n",
    "\n",
    "# sample_file_path = '../data/day_09_sample.txt'\n",
    "\n",
    "file_path = '../data/day_09.txt'"
   ]
  },
  {
   "cell_type": "code",
   "execution_count": 2,
   "metadata": {},
   "outputs": [],
   "source": [
    "def get_data(file_path):\n",
    "    with open(file_path) as file:\n",
    "        lines = file.read().splitlines()\n",
    "    master_list = []\n",
    "    for line in lines:\n",
    "        new_lines = [int(l) for l in line]\n",
    "        master_list.append(new_lines)\n",
    "    layout = np.array(master_list)\n",
    "    return layout"
   ]
  },
  {
   "cell_type": "code",
   "execution_count": 3,
   "metadata": {},
   "outputs": [
    {
     "data": {
      "text/plain": [
       "array([[9, 7, 5, ..., 6, 5, 4],\n",
       "       [6, 5, 4, ..., 5, 4, 3],\n",
       "       [5, 4, 3, ..., 4, 3, 2],\n",
       "       ...,\n",
       "       [5, 6, 5, ..., 8, 8, 9],\n",
       "       [6, 7, 6, ..., 9, 7, 9],\n",
       "       [9, 8, 9, ..., 5, 6, 8]])"
      ]
     },
     "execution_count": 3,
     "metadata": {},
     "output_type": "execute_result"
    }
   ],
   "source": [
    "test_layout = get_data(file_path)\n",
    "test_layout"
   ]
  },
  {
   "cell_type": "code",
   "execution_count": 4,
   "metadata": {},
   "outputs": [
    {
     "data": {
      "text/plain": [
       "array([[999, 999, 999, ..., 999, 999, 999],\n",
       "       [999,   9,   7, ...,   5,   4, 999],\n",
       "       [999,   6,   5, ...,   4,   3, 999],\n",
       "       ...,\n",
       "       [999,   6,   7, ...,   7,   9, 999],\n",
       "       [999,   9,   8, ...,   6,   8, 999],\n",
       "       [999, 999, 999, ..., 999, 999, 999]])"
      ]
     },
     "execution_count": 4,
     "metadata": {},
     "output_type": "execute_result"
    }
   ],
   "source": [
    "test_layout = np.pad(test_layout, (1,1), 'constant', constant_values=999)\n",
    "\n",
    "test_layout"
   ]
  },
  {
   "cell_type": "code",
   "execution_count": 5,
   "metadata": {},
   "outputs": [],
   "source": [
    "low_points = []\n",
    "\n",
    "for iy, ix in np.ndindex(test_layout.shape):\n",
    "    if test_layout[iy, ix] < 10  and \\\n",
    "        test_layout[iy, ix] < test_layout[iy, ix+1] \\\n",
    "        and test_layout[iy, ix] < test_layout[iy+1, ix] \\\n",
    "        and test_layout[iy, ix] < test_layout[iy, ix-1] \\\n",
    "        and test_layout[iy, ix] < test_layout[iy-1, ix]:\n",
    "        low_points.append(test_layout[iy, ix])"
   ]
  },
  {
   "cell_type": "code",
   "execution_count": 6,
   "metadata": {},
   "outputs": [
    {
     "data": {
      "text/plain": [
       "560"
      ]
     },
     "execution_count": 6,
     "metadata": {},
     "output_type": "execute_result"
    }
   ],
   "source": [
    "risk_level = sum([low+1 for low in low_points])\n",
    "risk_level"
   ]
  }
 ],
 "metadata": {
  "interpreter": {
   "hash": "99b8d0b9a9270acdc7b52d3eeb226e48ce2ee471221e21ec906b8eac9bbd4813"
  },
  "kernelspec": {
   "display_name": "Python 3.8.12 64-bit ('aoc': conda)",
   "language": "python",
   "name": "python3"
  },
  "language_info": {
   "codemirror_mode": {
    "name": "ipython",
    "version": 3
   },
   "file_extension": ".py",
   "mimetype": "text/x-python",
   "name": "python",
   "nbconvert_exporter": "python",
   "pygments_lexer": "ipython3",
   "version": "3.8.12"
  },
  "orig_nbformat": 4
 },
 "nbformat": 4,
 "nbformat_minor": 2
}
