{
 "cells": [
  {
   "cell_type": "code",
   "execution_count": 1,
   "metadata": {},
   "outputs": [],
   "source": [
    "import numpy as np \n",
    "\n",
    "#Sample data\n",
    "file_path = '../data/day_09_sample.txt'\n",
    "\n",
    "#Test data\n",
    "# file_path = '../data/day_09.txt'"
   ]
  },
  {
   "cell_type": "code",
   "execution_count": 2,
   "metadata": {},
   "outputs": [],
   "source": [
    "def get_data(file_path):\n",
    "    with open(file_path) as file:\n",
    "        lines = file.read().splitlines()\n",
    "    master_list = []\n",
    "    for line in lines:\n",
    "        new_lines = [int(l) for l in line]\n",
    "        master_list.append(new_lines)\n",
    "    layout = np.array(master_list)\n",
    "    return layout"
   ]
  },
  {
   "cell_type": "code",
   "execution_count": 14,
   "metadata": {},
   "outputs": [
    {
     "data": {
      "text/plain": [
       "array([[2, 1, 9, 9, 9, 4, 3, 2, 1, 0],\n",
       "       [3, 9, 8, 7, 8, 9, 4, 9, 2, 1],\n",
       "       [9, 8, 5, 6, 7, 8, 9, 8, 9, 2],\n",
       "       [8, 7, 6, 7, 8, 9, 6, 7, 8, 9],\n",
       "       [9, 8, 9, 9, 9, 6, 5, 6, 7, 8]])"
      ]
     },
     "execution_count": 14,
     "metadata": {},
     "output_type": "execute_result"
    }
   ],
   "source": [
    "layout = get_data(file_path)\n",
    "layout"
   ]
  },
  {
   "cell_type": "code",
   "execution_count": 15,
   "metadata": {},
   "outputs": [
    {
     "ename": "IndexError",
     "evalue": "index 10 is out of bounds for axis 1 with size 10",
     "output_type": "error",
     "traceback": [
      "\u001b[0;31m---------------------------------------------------------------------------\u001b[0m",
      "\u001b[0;31mIndexError\u001b[0m                                Traceback (most recent call last)",
      "\u001b[0;32m/tmp/ipykernel_8720/1514406729.py\u001b[0m in \u001b[0;36m<module>\u001b[0;34m\u001b[0m\n\u001b[1;32m      2\u001b[0m \u001b[0;34m\u001b[0m\u001b[0m\n\u001b[1;32m      3\u001b[0m \u001b[0;32mfor\u001b[0m \u001b[0miy\u001b[0m\u001b[0;34m,\u001b[0m \u001b[0mix\u001b[0m \u001b[0;32min\u001b[0m \u001b[0mnp\u001b[0m\u001b[0;34m.\u001b[0m\u001b[0mndindex\u001b[0m\u001b[0;34m(\u001b[0m\u001b[0mlayout\u001b[0m\u001b[0;34m.\u001b[0m\u001b[0mshape\u001b[0m\u001b[0;34m)\u001b[0m\u001b[0;34m:\u001b[0m\u001b[0;34m\u001b[0m\u001b[0;34m\u001b[0m\u001b[0m\n\u001b[0;32m----> 4\u001b[0;31m     \u001b[0;32mif\u001b[0m \u001b[0mlayout\u001b[0m\u001b[0;34m[\u001b[0m\u001b[0miy\u001b[0m\u001b[0;34m,\u001b[0m \u001b[0mix\u001b[0m\u001b[0;34m]\u001b[0m \u001b[0;34m<\u001b[0m \u001b[0mlayout\u001b[0m\u001b[0;34m[\u001b[0m\u001b[0miy\u001b[0m\u001b[0;34m,\u001b[0m \u001b[0mix\u001b[0m\u001b[0;34m+\u001b[0m\u001b[0;36m1\u001b[0m\u001b[0;34m]\u001b[0m\u001b[0;31m \u001b[0m\u001b[0;31m\\\u001b[0m\u001b[0;34m\u001b[0m\u001b[0;34m\u001b[0m\u001b[0m\n\u001b[0m\u001b[1;32m      5\u001b[0m     \u001b[0;32mand\u001b[0m \u001b[0mlayout\u001b[0m\u001b[0;34m[\u001b[0m\u001b[0miy\u001b[0m\u001b[0;34m,\u001b[0m \u001b[0mix\u001b[0m\u001b[0;34m]\u001b[0m \u001b[0;34m<\u001b[0m \u001b[0mlayout\u001b[0m\u001b[0;34m[\u001b[0m\u001b[0miy\u001b[0m\u001b[0;34m+\u001b[0m\u001b[0;36m1\u001b[0m\u001b[0;34m,\u001b[0m \u001b[0mix\u001b[0m\u001b[0;34m]\u001b[0m\u001b[0;31m \u001b[0m\u001b[0;31m\\\u001b[0m\u001b[0;34m\u001b[0m\u001b[0;34m\u001b[0m\u001b[0m\n\u001b[1;32m      6\u001b[0m     \u001b[0;32mand\u001b[0m \u001b[0mlayout\u001b[0m\u001b[0;34m[\u001b[0m\u001b[0miy\u001b[0m\u001b[0;34m,\u001b[0m \u001b[0mix\u001b[0m\u001b[0;34m]\u001b[0m \u001b[0;34m<\u001b[0m \u001b[0mlayout\u001b[0m\u001b[0;34m[\u001b[0m\u001b[0miy\u001b[0m\u001b[0;34m,\u001b[0m \u001b[0mix\u001b[0m\u001b[0;34m-\u001b[0m\u001b[0;36m1\u001b[0m\u001b[0;34m]\u001b[0m\u001b[0;31m \u001b[0m\u001b[0;31m\\\u001b[0m\u001b[0;34m\u001b[0m\u001b[0;34m\u001b[0m\u001b[0m\n",
      "\u001b[0;31mIndexError\u001b[0m: index 10 is out of bounds for axis 1 with size 10"
     ]
    }
   ],
   "source": [
    "low_points = []\n",
    "\n",
    "for iy, ix in np.ndindex(layout.shape):\n",
    "    if layout[iy, ix] < layout[iy, ix+1] \\\n",
    "    and layout[iy, ix] < layout[iy+1, ix] \\\n",
    "    and layout[iy, ix] < layout[iy, ix-1] \\\n",
    "    and layout[iy, ix] < layout[iy-1, ix]:\n",
    "        low_points.append(layout[iy, ix])\n",
    "        \n",
    "low_points"
   ]
  },
  {
   "cell_type": "code",
   "execution_count": 16,
   "metadata": {},
   "outputs": [
    {
     "data": {
      "text/plain": [
       "array([[999, 999, 999, 999, 999, 999, 999, 999, 999, 999, 999, 999],\n",
       "       [999,   2,   1,   9,   9,   9,   4,   3,   2,   1,   0, 999],\n",
       "       [999,   3,   9,   8,   7,   8,   9,   4,   9,   2,   1, 999],\n",
       "       [999,   9,   8,   5,   6,   7,   8,   9,   8,   9,   2, 999],\n",
       "       [999,   8,   7,   6,   7,   8,   9,   6,   7,   8,   9, 999],\n",
       "       [999,   9,   8,   9,   9,   9,   6,   5,   6,   7,   8, 999],\n",
       "       [999, 999, 999, 999, 999, 999, 999, 999, 999, 999, 999, 999]])"
      ]
     },
     "execution_count": 16,
     "metadata": {},
     "output_type": "execute_result"
    }
   ],
   "source": [
    "layout = np.pad(layout, (1,1), 'constant', constant_values=999)\n",
    "\n",
    "layout"
   ]
  },
  {
   "cell_type": "code",
   "execution_count": 17,
   "metadata": {},
   "outputs": [
    {
     "data": {
      "text/plain": [
       "[1, 0, 5, 5]"
      ]
     },
     "execution_count": 17,
     "metadata": {},
     "output_type": "execute_result"
    }
   ],
   "source": [
    "low_points = []\n",
    "\n",
    "for iy, ix in np.ndindex(layout.shape):\n",
    "    if layout[iy, ix] != 999  and \\\n",
    "        layout[iy, ix] < layout[iy, ix+1] \\\n",
    "        and layout[iy, ix] < layout[iy+1, ix] \\\n",
    "        and layout[iy, ix] < layout[iy, ix-1] \\\n",
    "        and layout[iy, ix] < layout[iy-1, ix]:\n",
    "        low_points.append(layout[iy, ix])\n",
    "        \n",
    "low_points"
   ]
  },
  {
   "cell_type": "code",
   "execution_count": 18,
   "metadata": {},
   "outputs": [
    {
     "data": {
      "text/plain": [
       "15"
      ]
     },
     "execution_count": 18,
     "metadata": {},
     "output_type": "execute_result"
    }
   ],
   "source": [
    "risk_level = sum([low+1 for low in low_points])\n",
    "risk_level"
   ]
  }
 ],
 "metadata": {
  "interpreter": {
   "hash": "99b8d0b9a9270acdc7b52d3eeb226e48ce2ee471221e21ec906b8eac9bbd4813"
  },
  "kernelspec": {
   "display_name": "Python 3.8.12 64-bit ('aoc': conda)",
   "language": "python",
   "name": "python3"
  },
  "language_info": {
   "codemirror_mode": {
    "name": "ipython",
    "version": 3
   },
   "file_extension": ".py",
   "mimetype": "text/x-python",
   "name": "python",
   "nbconvert_exporter": "python",
   "pygments_lexer": "ipython3",
   "version": "3.8.12"
  },
  "orig_nbformat": 4
 },
 "nbformat": 4,
 "nbformat_minor": 2
}
