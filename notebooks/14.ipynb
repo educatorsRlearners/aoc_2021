{
 "cells": [
  {
   "cell_type": "code",
   "execution_count": 99,
   "metadata": {},
   "outputs": [],
   "source": [
    "# file_path = \"../data/day_14_sample.txt\"\n",
    "file_path = \"../data/day_14.txt\""
   ]
  },
  {
   "cell_type": "code",
   "execution_count": 100,
   "metadata": {},
   "outputs": [
    {
     "name": "stdout",
     "output_type": "stream",
     "text": [
      "KFVHFSSVNCSNHCPCNPVO\n",
      "{'KS': 'O', 'SP': 'V', 'OH': 'F', 'VC': 'P', 'BO': 'S', 'CV': 'H', 'FO': 'N', 'KV': 'V', 'OV': 'B', 'NB': 'K', 'FS': 'F', 'KB': 'N', 'HK': 'C', 'VP': 'B', 'SV': 'S', 'FP': 'P', 'BS': 'B', 'BP': 'K', 'OS': 'K', 'PB': 'C', 'HB': 'H', 'VN': 'S', 'FB': 'C', 'OC': 'N', 'OO': 'F', 'PC': 'O', 'FK': 'K', 'OP': 'V', 'BH': 'C', 'NP': 'C', 'KF': 'H', 'SK': 'F', 'HN': 'O', 'CB': 'O', 'SN': 'N', 'VF': 'S', 'KC': 'H', 'HF': 'V', 'NC': 'P', 'BN': 'F', 'KO': 'C', 'PS': 'B', 'HO': 'S', 'CH': 'O', 'KP': 'K', 'VK': 'V', 'BB': 'V', 'BF': 'P', 'CS': 'K', 'CN': 'H', 'PK': 'C', 'SH': 'O', 'BC': 'H', 'FN': 'N', 'BK': 'N', 'PN': 'B', 'PO': 'O', 'SC': 'S', 'NO': 'S', 'KN': 'O', 'VB': 'C', 'SF': 'H', 'FH': 'C', 'FF': 'B', 'VO': 'S', 'PH': 'F', 'CK': 'B', 'FC': 'P', 'VV': 'F', 'VH': 'O', 'OF': 'O', 'HP': 'K', 'CO': 'V', 'VS': 'V', 'SB': 'F', 'SS': 'K', 'CF': 'O', 'OK': 'V', 'ON': 'B', 'NS': 'H', 'SO': 'B', 'NV': 'V', 'NH': 'B', 'NN': 'K', 'KH': 'H', 'FV': 'B', 'KK': 'N', 'OB': 'F', 'NK': 'F', 'CC': 'S', 'PP': 'B', 'PF': 'H', 'HC': 'P', 'PV': 'F', 'BV': 'N', 'NF': 'N', 'HV': 'S', 'HH': 'C', 'HS': 'O', 'CP': 'O'}\n"
     ]
    }
   ],
   "source": [
    "with open(file_path) as f:\n",
    "    input_ = f.read().splitlines()\n",
    "\n",
    "rules = {}\n",
    "\n",
    "for line in input_:\n",
    "    if \"->\" in line:\n",
    "        l = line.split(\"->\")\n",
    "        rules[l[0].strip()] = l[1].strip()\n",
    "        \n",
    "rules\n",
    "\n",
    "template = input_[0]\n",
    "\n",
    "print(template)\n",
    "\n",
    "print(rules)"
   ]
  },
  {
   "cell_type": "code",
   "execution_count": 101,
   "metadata": {},
   "outputs": [
    {
     "data": {
      "text/plain": [
       "['KF',\n",
       " 'FV',\n",
       " 'VH',\n",
       " 'HF',\n",
       " 'FS',\n",
       " 'SS',\n",
       " 'SV',\n",
       " 'VN',\n",
       " 'NC',\n",
       " 'CS',\n",
       " 'SN',\n",
       " 'NH',\n",
       " 'HC',\n",
       " 'CP',\n",
       " 'PC',\n",
       " 'CN',\n",
       " 'NP',\n",
       " 'PV',\n",
       " 'VO']"
      ]
     },
     "execution_count": 101,
     "metadata": {},
     "output_type": "execute_result"
    }
   ],
   "source": [
    "all_pairs = [template[i:i+2] for i in range(len(template)-1)]\n",
    "\n",
    "all_pairs"
   ]
  },
  {
   "cell_type": "code",
   "execution_count": 104,
   "metadata": {},
   "outputs": [
    {
     "name": "stdout",
     "output_type": "stream",
     "text": [
      "HF\n",
      "BV\n",
      "OH\n",
      "VF\n",
      "FS\n",
      "KS\n",
      "SV\n",
      "SN\n",
      "PC\n",
      "KS\n",
      "NN\n",
      "BH\n",
      "PC\n",
      "OP\n",
      "OC\n",
      "HN\n",
      "CP\n",
      "FV\n",
      "SO\n"
     ]
    }
   ],
   "source": [
    "# Next, we need to find all the pairs that are in the rules and insert the key \n",
    "\n",
    "\n",
    "\n",
    "for all in all_pairs:\n",
    "    if all in rules:\n",
    "        # print(all[0]+rules[all]+all[1])\n",
    "        print(rules[all]+all[1])"
   ]
  },
  {
   "cell_type": "code",
   "execution_count": 105,
   "metadata": {},
   "outputs": [
    {
     "data": {
      "text/plain": [
       "'KHFBVOHVFFSKSSVSNPCKSNNBHPCOPOCHNCPFVSO'"
      ]
     },
     "execution_count": 105,
     "metadata": {},
     "output_type": "execute_result"
    }
   ],
   "source": [
    "\"\".join(list(template[0])+[rules[all]+all[1] for all in all_pairs if all in rules])"
   ]
  },
  {
   "cell_type": "code",
   "execution_count": 106,
   "metadata": {},
   "outputs": [],
   "source": [
    "def generate_next(template):\n",
    "    all_pairs = [template[i:i+2] for i in range(len(template)-1)]\n",
    "    return \"\".join(list(template[0])+[rules[all]+all[1] for all in all_pairs if all in rules])\n"
   ]
  },
  {
   "cell_type": "code",
   "execution_count": 107,
   "metadata": {},
   "outputs": [
    {
     "data": {
      "text/plain": [
       "'KHFBVOHVFFSKSSVSNPCKSNNBHPCOPOCHNCPFVSO'"
      ]
     },
     "execution_count": 107,
     "metadata": {},
     "output_type": "execute_result"
    }
   ],
   "source": [
    "generate_next(template)"
   ]
  },
  {
   "cell_type": "code",
   "execution_count": 108,
   "metadata": {},
   "outputs": [
    {
     "data": {
      "text/plain": [
       "'KHFBVOHVFFSKSSVSNPCKSNNBHPCOPOCHNCPFVSO'"
      ]
     },
     "execution_count": 108,
     "metadata": {},
     "output_type": "execute_result"
    }
   ],
   "source": [
    "template = input_[0]\n",
    "\n",
    "def get_string(template, n):\n",
    "    for _ in range(n):\n",
    "        template = generate_next(template)\n",
    "    return template\n",
    "\n",
    "get_string(template, 1)"
   ]
  },
  {
   "cell_type": "code",
   "execution_count": 109,
   "metadata": {},
   "outputs": [
    {
     "data": {
      "text/plain": [
       "False"
      ]
     },
     "execution_count": 109,
     "metadata": {},
     "output_type": "execute_result"
    }
   ],
   "source": [
    "step_4 = 'NBBNBNBBCCNBCNCCNBBNBBNBBBNBBNBBCBHCBHHNHCBBCBHCB'\n",
    "\n",
    "\n",
    "step_4 == get_string(template, 4)"
   ]
  },
  {
   "cell_type": "code",
   "execution_count": 110,
   "metadata": {},
   "outputs": [],
   "source": [
    "template = input_[0]\n",
    "\n",
    "step_10 = get_string(template, 10)"
   ]
  },
  {
   "cell_type": "code",
   "execution_count": 111,
   "metadata": {},
   "outputs": [],
   "source": [
    "from collections import Counter"
   ]
  },
  {
   "cell_type": "code",
   "execution_count": 112,
   "metadata": {},
   "outputs": [],
   "source": [
    "counter = Counter(step_10)"
   ]
  },
  {
   "cell_type": "code",
   "execution_count": 113,
   "metadata": {},
   "outputs": [
    {
     "data": {
      "text/plain": [
       "Counter({'K': 1913,\n",
       "         'H': 1102,\n",
       "         'C': 1233,\n",
       "         'P': 1078,\n",
       "         'O': 3587,\n",
       "         'V': 1942,\n",
       "         'F': 3037,\n",
       "         'N': 2343,\n",
       "         'S': 1670,\n",
       "         'B': 1552})"
      ]
     },
     "execution_count": 113,
     "metadata": {},
     "output_type": "execute_result"
    }
   ],
   "source": [
    "counter"
   ]
  },
  {
   "cell_type": "code",
   "execution_count": 121,
   "metadata": {},
   "outputs": [
    {
     "data": {
      "text/plain": [
       "2509"
      ]
     },
     "execution_count": 121,
     "metadata": {},
     "output_type": "execute_result"
    }
   ],
   "source": [
    "counter.most_common(1)[0][1]-1078"
   ]
  },
  {
   "cell_type": "code",
   "execution_count": 120,
   "metadata": {},
   "outputs": [
    {
     "ename": "IndexError",
     "evalue": "list index out of range",
     "output_type": "error",
     "traceback": [
      "\u001b[0;31m---------------------------------------------------------------------------\u001b[0m",
      "\u001b[0;31mIndexError\u001b[0m                                Traceback (most recent call last)",
      "\u001b[0;32m/tmp/ipykernel_5179/540673462.py\u001b[0m in \u001b[0;36m<module>\u001b[0;34m\u001b[0m\n\u001b[0;32m----> 1\u001b[0;31m \u001b[0mcounter\u001b[0m\u001b[0;34m.\u001b[0m\u001b[0mmost_common\u001b[0m\u001b[0;34m(\u001b[0m\u001b[0;34m-\u001b[0m\u001b[0;36m1\u001b[0m\u001b[0;34m)\u001b[0m\u001b[0;34m[\u001b[0m\u001b[0;36m0\u001b[0m\u001b[0;34m]\u001b[0m\u001b[0;34m[\u001b[0m\u001b[0;36m0\u001b[0m\u001b[0;34m]\u001b[0m\u001b[0;34m\u001b[0m\u001b[0;34m\u001b[0m\u001b[0m\n\u001b[0m",
      "\u001b[0;31mIndexError\u001b[0m: list index out of range"
     ]
    }
   ],
   "source": []
  },
  {
   "cell_type": "code",
   "execution_count": null,
   "metadata": {},
   "outputs": [],
   "source": []
  }
 ],
 "metadata": {
  "interpreter": {
   "hash": "99b8d0b9a9270acdc7b52d3eeb226e48ce2ee471221e21ec906b8eac9bbd4813"
  },
  "kernelspec": {
   "display_name": "Python 3.8.12 64-bit ('aoc': conda)",
   "language": "python",
   "name": "python3"
  },
  "language_info": {
   "codemirror_mode": {
    "name": "ipython",
    "version": 3
   },
   "file_extension": ".py",
   "mimetype": "text/x-python",
   "name": "python",
   "nbconvert_exporter": "python",
   "pygments_lexer": "ipython3",
   "version": "3.8.12"
  },
  "orig_nbformat": 4
 },
 "nbformat": 4,
 "nbformat_minor": 2
}
