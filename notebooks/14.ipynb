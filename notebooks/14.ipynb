{
 "cells": [
  {
   "cell_type": "code",
   "execution_count": 2,
   "metadata": {},
   "outputs": [],
   "source": [
    "from collections import Counter\n",
    "\n",
    "file_path = \"../data/day_14_sample.txt\"\n",
    "# file_path = \"../data/day_14.txt\""
   ]
  },
  {
   "cell_type": "code",
   "execution_count": 17,
   "metadata": {},
   "outputs": [],
   "source": [
    "def get_data(file_path): \n",
    "    with open(file_path) as f:\n",
    "        input_ = f.read().splitlines()\n",
    "\n",
    "    template = input_[0]\n",
    "    \n",
    "    rules = {}\n",
    "\n",
    "    for line in input_:\n",
    "        if \"->\" in line:\n",
    "            l = line.split(\"->\")\n",
    "            rules[l[0].strip()] = l[1].strip()\n",
    "            \n",
    "    \n",
    "    return rules, template\n",
    "\n",
    "rules, template = get_data(file_path)\n"
   ]
  },
  {
   "cell_type": "code",
   "execution_count": 29,
   "metadata": {},
   "outputs": [
    {
     "data": {
      "text/plain": [
       "['NN', 'NC', 'CB']"
      ]
     },
     "execution_count": 29,
     "metadata": {},
     "output_type": "execute_result"
    }
   ],
   "source": [
    "def get_all_pairs(string):\n",
    "    return [string[i:i+2] for i in range(len(string)-1)]\n",
    "\n",
    "get_all_pairs(template)"
   ]
  },
  {
   "cell_type": "code",
   "execution_count": 21,
   "metadata": {},
   "outputs": [
    {
     "data": {
      "text/plain": [
       "'NCNBCHB'"
      ]
     },
     "execution_count": 21,
     "metadata": {},
     "output_type": "execute_result"
    }
   ],
   "source": [
    "def generate_next(string):\n",
    "    all_pairs = get_all_pairs(string)\n",
    "    return \"\".join(list(string[0])+[rules[all]+all[1] for all in all_pairs if all in rules])\n",
    "\n",
    "generate_next(template)"
   ]
  },
  {
   "cell_type": "code",
   "execution_count": 30,
   "metadata": {},
   "outputs": [
    {
     "data": {
      "text/plain": [
       "'NCNBCHB'"
      ]
     },
     "execution_count": 30,
     "metadata": {},
     "output_type": "execute_result"
    }
   ],
   "source": [
    "template = get_data(file_path)[1]\n",
    "\n",
    "def get_string(string, n):\n",
    "    for _ in range(n):\n",
    "        string = generate_next(string)\n",
    "    return string\n",
    "\n",
    "get_string(template, 1)"
   ]
  },
  {
   "cell_type": "code",
   "execution_count": 23,
   "metadata": {},
   "outputs": [
    {
     "data": {
      "text/plain": [
       "True"
      ]
     },
     "execution_count": 23,
     "metadata": {},
     "output_type": "execute_result"
    }
   ],
   "source": [
    "step_4 = 'NBBNBNBBCCNBCNCCNBBNBBNBBBNBBNBBCBHCBHHNHCBBCBHCB'\n",
    "\n",
    "\n",
    "step_4 == get_string(template, 4)"
   ]
  },
  {
   "cell_type": "code",
   "execution_count": 34,
   "metadata": {},
   "outputs": [],
   "source": [
    "step_10 = get_string(template, 10)\n"
   ]
  },
  {
   "cell_type": "code",
   "execution_count": 35,
   "metadata": {},
   "outputs": [
    {
     "data": {
      "text/plain": [
       "1588"
      ]
     },
     "execution_count": 35,
     "metadata": {},
     "output_type": "execute_result"
    }
   ],
   "source": [
    "def get_diff(string):\n",
    "    \"\"\"Adapted from the docs\"\"\"\n",
    "    counter = Counter(string)\n",
    "    most_common = counter.most_common(1)[0][1]\n",
    "    least_common = counter.most_common()[:-1-1:-1][0][1]\n",
    "\n",
    "    return most_common - least_common\n",
    "\n",
    "get_diff(step_10)"
   ]
  }
 ],
 "metadata": {
  "interpreter": {
   "hash": "99b8d0b9a9270acdc7b52d3eeb226e48ce2ee471221e21ec906b8eac9bbd4813"
  },
  "kernelspec": {
   "display_name": "Python 3.8.12 64-bit ('aoc': conda)",
   "language": "python",
   "name": "python3"
  },
  "language_info": {
   "codemirror_mode": {
    "name": "ipython",
    "version": 3
   },
   "file_extension": ".py",
   "mimetype": "text/x-python",
   "name": "python",
   "nbconvert_exporter": "python",
   "pygments_lexer": "ipython3",
   "version": "3.8.12"
  },
  "orig_nbformat": 4
 },
 "nbformat": 4,
 "nbformat_minor": 2
}
