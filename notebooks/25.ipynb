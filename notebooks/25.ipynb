{
 "cells": [
  {
   "cell_type": "markdown",
   "metadata": {},
   "source": [
    "Final day and after struggling with multiple nested loops for about two hours, I searched the [subreddit](https://www.reddit.com/r/adventofcode/comments/ro2uav/2021_day_25_solutions/) and came across this genius [solution](https://www.reddit.com/r/adventofcode/comments/ro2uav/comment/hpwpfjx/?utm_source=share&utm_medium=web2x&context=3) \n",
    "\n",
    "Thank you so much and see you next year! "
   ]
  },
  {
   "cell_type": "code",
   "execution_count": 1,
   "metadata": {},
   "outputs": [],
   "source": [
    "import numpy as np\n",
    "\n",
    "# file_path = \"../data/day_25_sample.txt\"\n",
    "file_path = \"../data/day_25.txt\""
   ]
  },
  {
   "cell_type": "code",
   "execution_count": 2,
   "metadata": {},
   "outputs": [],
   "source": [
    "def get_data(file_path):\n",
    "    with open(file_path) as file:\n",
    "        lines = file.read().splitlines()\n",
    "    master_list = []\n",
    "    for line in lines:\n",
    "        new_lines = [l for l in line]\n",
    "        master_list.append(new_lines)\n",
    "    return np.array(master_list)\n"
   ]
  },
  {
   "cell_type": "code",
   "execution_count": 3,
   "metadata": {},
   "outputs": [],
   "source": [
    "grid = get_data(file_path)"
   ]
  },
  {
   "cell_type": "code",
   "execution_count": 4,
   "metadata": {},
   "outputs": [
    {
     "data": {
      "text/plain": [
       "array([['>', '.', 'v', ..., '.', '>', '.'],\n",
       "       ['v', '.', 'v', ..., '.', '.', 'v'],\n",
       "       ['.', '.', '.', ..., '.', '>', '>'],\n",
       "       ...,\n",
       "       ['v', '.', '.', ..., '.', '.', '>'],\n",
       "       ['v', '.', '.', ..., '>', 'v', '.'],\n",
       "       ['.', '>', 'v', ..., '>', '.', '>']], dtype='<U1')"
      ]
     },
     "execution_count": 4,
     "metadata": {},
     "output_type": "execute_result"
    }
   ],
   "source": [
    "grid"
   ]
  },
  {
   "cell_type": "code",
   "execution_count": 5,
   "metadata": {},
   "outputs": [],
   "source": [
    "def step_east(grid):\n",
    "    \"\"\"Move cumcumbers to the east.\"\"\"\n",
    "\n",
    "    next_grid = grid.copy()\n",
    "    _, shape_x = grid.shape\n",
    "\n",
    "    for x in range(0, shape_x + 1):\n",
    "        # Extract current and next column\n",
    "        column = np.take(grid, (x, x + 1), axis=1, mode='wrap')\n",
    "\n",
    "        # Build index of positions where cucumbers can move\n",
    "        can_move = np.all(column == ['>', '.'], axis=1)\n",
    "\n",
    "        # Move cucumbers to their new col\n",
    "        old_col = next_grid[:,x % shape_x]\n",
    "        old_col[can_move] = '.'\n",
    "        new_col = next_grid[:,(x + 1) % shape_x]\n",
    "        new_col[can_move] = '>'\n",
    "\n",
    "    return next_grid"
   ]
  },
  {
   "cell_type": "code",
   "execution_count": 6,
   "metadata": {},
   "outputs": [],
   "source": [
    "def step_south(grid):\n",
    "    \"\"\"Move cucumbers to the south.\"\"\"\n",
    "\n",
    "    next_grid = grid.copy()\n",
    "    shape_y, _ = grid.shape\n",
    "\n",
    "    for y in range(0, shape_y + 1):\n",
    "        # Extract current and next column\n",
    "        row = np.take(grid, (y, y + 1), axis=0, mode='wrap').T\n",
    "\n",
    "        # Build index of positions where cucumbers can move\n",
    "        can_move = np.all(row == ['v', '.'], axis=1)\n",
    "\n",
    "        # Move cucumbers to their new row\n",
    "        old_row = next_grid[y % shape_y,:]\n",
    "        old_row[can_move] = '.'\n",
    "        new_row = next_grid[(y + 1) % shape_y,:]\n",
    "        new_row[can_move] = 'v'\n",
    "\n",
    "    return next_grid"
   ]
  },
  {
   "cell_type": "code",
   "execution_count": 7,
   "metadata": {},
   "outputs": [],
   "source": [
    "def step(grid):\n",
    "    grid = step_east(grid)\n",
    "    grid = step_south(grid)\n",
    "    return grid"
   ]
  },
  {
   "cell_type": "code",
   "execution_count": 8,
   "metadata": {},
   "outputs": [],
   "source": [
    "def loop(grid):\n",
    "    \"\"\"Move the cucumbers as far as they can go.\"\"\"\n",
    "\n",
    "    counter = 0\n",
    "    old_grid = np.full(grid.shape, '.')\n",
    "    while not np.array_equal(grid, old_grid):\n",
    "        old_grid = grid.copy()\n",
    "        grid = step(grid)\n",
    "        counter += 1\n",
    "    return grid, counter"
   ]
  },
  {
   "cell_type": "code",
   "execution_count": 9,
   "metadata": {},
   "outputs": [
    {
     "name": "stdout",
     "output_type": "stream",
     "text": [
      "504\n"
     ]
    }
   ],
   "source": [
    "grid, counter = loop(grid)\n",
    "\n",
    "print(counter)"
   ]
  }
 ],
 "metadata": {
  "interpreter": {
   "hash": "99b8d0b9a9270acdc7b52d3eeb226e48ce2ee471221e21ec906b8eac9bbd4813"
  },
  "kernelspec": {
   "display_name": "Python 3.8.12 64-bit ('aoc': conda)",
   "language": "python",
   "name": "python3"
  },
  "language_info": {
   "codemirror_mode": {
    "name": "ipython",
    "version": 3
   },
   "file_extension": ".py",
   "mimetype": "text/x-python",
   "name": "python",
   "nbconvert_exporter": "python",
   "pygments_lexer": "ipython3",
   "version": "3.8.12"
  },
  "orig_nbformat": 4
 },
 "nbformat": 4,
 "nbformat_minor": 2
}
