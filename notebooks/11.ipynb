{
 "cells": [
  {
   "cell_type": "markdown",
   "metadata": {},
   "source": [
    "This one stumped me; I tried and tried to get my loops right but just couldn't get the cascade to work. \n",
    "\n",
    "Luckily for me, I found this [solution](https://pastebin.com/Z5CXpSBe) and used it to create my own."
   ]
  },
  {
   "cell_type": "code",
   "execution_count": 1,
   "metadata": {},
   "outputs": [],
   "source": [
    "import numpy as np "
   ]
  },
  {
   "cell_type": "code",
   "execution_count": 2,
   "metadata": {},
   "outputs": [],
   "source": [
    "def get_data(file_path):\n",
    "    with open(file_path) as file:\n",
    "        lines = file.read().splitlines()\n",
    "    master_list = []\n",
    "    for line in lines:\n",
    "        new_lines = [int(l) for l in line]\n",
    "        master_list.append(new_lines)\n",
    "    grid = np.array(master_list)\n",
    "    return grid"
   ]
  },
  {
   "cell_type": "code",
   "execution_count": 35,
   "metadata": {},
   "outputs": [],
   "source": [
    "file_path = '../data/day_11_sample.txt'\n",
    "# file_path = '../data/day_11.txt'"
   ]
  },
  {
   "cell_type": "code",
   "execution_count": 47,
   "metadata": {},
   "outputs": [
    {
     "data": {
      "text/plain": [
       "array([[999, 999, 999, 999, 999, 999, 999, 999, 999, 999, 999, 999],\n",
       "       [999,   5,   4,   8,   3,   1,   4,   3,   2,   2,   3, 999],\n",
       "       [999,   2,   7,   4,   5,   8,   5,   4,   7,   1,   1, 999],\n",
       "       [999,   5,   2,   6,   4,   5,   5,   6,   1,   7,   3, 999],\n",
       "       [999,   6,   1,   4,   1,   3,   3,   6,   1,   4,   6, 999],\n",
       "       [999,   6,   3,   5,   7,   3,   8,   5,   4,   7,   8, 999],\n",
       "       [999,   4,   1,   6,   7,   5,   2,   4,   6,   4,   5, 999],\n",
       "       [999,   2,   1,   7,   6,   8,   4,   1,   7,   2,   1, 999],\n",
       "       [999,   6,   8,   8,   2,   8,   8,   1,   1,   3,   4, 999],\n",
       "       [999,   4,   8,   4,   6,   8,   4,   8,   5,   5,   4, 999],\n",
       "       [999,   5,   2,   8,   3,   7,   5,   1,   5,   2,   6, 999],\n",
       "       [999, 999, 999, 999, 999, 999, 999, 999, 999, 999, 999, 999]])"
      ]
     },
     "execution_count": 47,
     "metadata": {},
     "output_type": "execute_result"
    }
   ],
   "source": [
    "grid = get_data(file_path)\n",
    "\n",
    "grid = np.pad(grid, pad_width=1, mode='constant', constant_values=999)\n",
    "grid"
   ]
  },
  {
   "cell_type": "code",
   "execution_count": 48,
   "metadata": {},
   "outputs": [
    {
     "name": "stdout",
     "output_type": "stream",
     "text": [
      "part 1: 1656\n",
      "part 2: 195\n"
     ]
    }
   ],
   "source": [
    "flashdb, steps, simflash = 0,0,0\n",
    "\n",
    "directions = [[1,0],[1,1],[1,-1],[-1,0],[-1,1],[-1,-1],[0,1],[0,-1]]\n",
    "\n",
    "iterations = 100 \n",
    "\n",
    "while(simflash < iterations):\n",
    "    flashed = True\n",
    "    simflash=0\n",
    "    while (flashed):\n",
    "        flashed = False\n",
    "        for x in range(1,11):\n",
    "            for y in range(1,11):\n",
    "                if grid[x][y] > 9:\n",
    "                    grid[x][y] = 0\n",
    "                    for k in directions:\n",
    "                        if grid[x+k[0]][y+k[1]] != 0:\n",
    "                            grid[x+k[0]][y+k[1]]+=1\n",
    "                    simflash+=1\n",
    "                    flashed = True\n",
    "    if steps == iterations+1: print('part 1:',flashdb)\n",
    "    flashdb+=simflash\n",
    "    grid = [[a+1 for a in b] for b in grid]\n",
    "    steps+=1\n",
    "\n",
    "print('part 2:',steps-1)\n"
   ]
  },
  {
   "cell_type": "code",
   "execution_count": null,
   "metadata": {},
   "outputs": [],
   "source": []
  }
 ],
 "metadata": {
  "interpreter": {
   "hash": "99b8d0b9a9270acdc7b52d3eeb226e48ce2ee471221e21ec906b8eac9bbd4813"
  },
  "kernelspec": {
   "display_name": "Python 3.8.12 64-bit ('aoc': conda)",
   "language": "python",
   "name": "python3"
  },
  "language_info": {
   "codemirror_mode": {
    "name": "ipython",
    "version": 3
   },
   "file_extension": ".py",
   "mimetype": "text/x-python",
   "name": "python",
   "nbconvert_exporter": "python",
   "pygments_lexer": "ipython3",
   "version": "3.8.12"
  },
  "orig_nbformat": 4
 },
 "nbformat": 4,
 "nbformat_minor": 2
}
