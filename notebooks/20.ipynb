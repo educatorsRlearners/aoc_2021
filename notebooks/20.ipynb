{
 "cells": [
  {
   "cell_type": "code",
   "execution_count": 2,
   "metadata": {},
   "outputs": [],
   "source": [
    "import numpy as np\n",
    "\n",
    "file_path = \"../data/day_20_sample.txt\"\n",
    "# file_path = \"../data/day_20.txt\""
   ]
  },
  {
   "cell_type": "code",
   "execution_count": 3,
   "metadata": {},
   "outputs": [],
   "source": [
    "with open(file_path) as file:\n",
    "    iea = file.read().splitlines()[0]"
   ]
  },
  {
   "cell_type": "code",
   "execution_count": 4,
   "metadata": {},
   "outputs": [],
   "source": [
    "def get_data(file_path):\n",
    "    with open(file_path) as file:\n",
    "        lines = file.read().splitlines()[2:]\n",
    "    master_list = []\n",
    "    for line in lines:\n",
    "        new_lines = [l for l in line]\n",
    "        master_list.append(new_lines)\n",
    "    grid = np.array(master_list)\n",
    "    return grid"
   ]
  },
  {
   "cell_type": "code",
   "execution_count": 5,
   "metadata": {},
   "outputs": [
    {
     "data": {
      "text/plain": [
       "array([['#', '.', '.', '#', '.'],\n",
       "       ['#', '.', '.', '.', '.'],\n",
       "       ['#', '#', '.', '.', '#'],\n",
       "       ['.', '.', '#', '.', '.'],\n",
       "       ['.', '.', '#', '#', '#']], dtype='<U1')"
      ]
     },
     "execution_count": 5,
     "metadata": {},
     "output_type": "execute_result"
    }
   ],
   "source": [
    "grid = get_data(file_path)\n",
    "grid"
   ]
  },
  {
   "cell_type": "code",
   "execution_count": 11,
   "metadata": {},
   "outputs": [
    {
     "name": "stdout",
     "output_type": "stream",
     "text": [
      "Since the grid is (5, 5), we'll need to create 25 squares.\n"
     ]
    }
   ],
   "source": [
    "print(f\"Since the grid is {grid.shape}, we'll need to create {grid.shape[0]*grid.shape[1]} squares.\" )"
   ]
  },
  {
   "cell_type": "code",
   "execution_count": 12,
   "metadata": {},
   "outputs": [
    {
     "data": {
      "text/plain": [
       "array([['.', '.', '.', '.', '.', '.', '.'],\n",
       "       ['.', '#', '.', '.', '#', '.', '.'],\n",
       "       ['.', '#', '.', '.', '.', '.', '.'],\n",
       "       ['.', '#', '#', '.', '.', '#', '.'],\n",
       "       ['.', '.', '.', '#', '.', '.', '.'],\n",
       "       ['.', '.', '.', '#', '#', '#', '.'],\n",
       "       ['.', '.', '.', '.', '.', '.', '.']], dtype='<U1')"
      ]
     },
     "execution_count": 12,
     "metadata": {},
     "output_type": "execute_result"
    }
   ],
   "source": [
    "grid = np.pad(grid, pad_width=1, mode='constant', constant_values='.')\n",
    "grid"
   ]
  },
  {
   "cell_type": "code",
   "execution_count": 13,
   "metadata": {},
   "outputs": [],
   "source": [
    "def get_grids(grid):\n",
    "    \"\"\"Get all subgrids\"\"\"\n",
    "    cols, rows = grid.shape\n",
    "    squares = []\n",
    "    for y in range(1,cols-1):\n",
    "        for x in range(1,rows-1):\n",
    "            squares.append(grid[x-1:x+2,y-1:y+2])\n",
    "    return squares"
   ]
  },
  {
   "cell_type": "code",
   "execution_count": 14,
   "metadata": {},
   "outputs": [],
   "source": [
    "feature_map = get_grids(grid)"
   ]
  },
  {
   "cell_type": "code",
   "execution_count": 16,
   "metadata": {},
   "outputs": [
    {
     "data": {
      "text/plain": [
       "array([['.', '.', '.'],\n",
       "       ['#', '.', '.'],\n",
       "       ['.', '#', '.']], dtype='<U1')"
      ]
     },
     "execution_count": 16,
     "metadata": {},
     "output_type": "execute_result"
    }
   ],
   "source": [
    "#This is the sample grid from the problem\n",
    "\n",
    "feature_map[12]"
   ]
  },
  {
   "cell_type": "code",
   "execution_count": 17,
   "metadata": {},
   "outputs": [],
   "source": [
    "def convert_to_int(sub_squre):\n",
    "    converted = []\n",
    "\n",
    "    for x in sub_squre.flatten():\n",
    "        if x == '#':\n",
    "            converted.append(\"1\")\n",
    "        else:\n",
    "            converted.append(\"0\")\n",
    "    return int(\"\".join(converted), 2)"
   ]
  },
  {
   "cell_type": "code",
   "execution_count": 18,
   "metadata": {},
   "outputs": [
    {
     "data": {
      "text/plain": [
       "34"
      ]
     },
     "execution_count": 18,
     "metadata": {},
     "output_type": "execute_result"
    }
   ],
   "source": [
    "convert_to_int(feature_map[12])"
   ]
  },
  {
   "cell_type": "code",
   "execution_count": 22,
   "metadata": {},
   "outputs": [],
   "source": [
    "def get_ieas(feature_map):\n",
    "    \"\"\"Get the IEA for each subgrid\"\"\"\n",
    "    iea_list = [convert_to_int(square) for square in feature_map]\n",
    "    return iea_list\n"
   ]
  },
  {
   "cell_type": "code",
   "execution_count": 23,
   "metadata": {},
   "outputs": [],
   "source": [
    "all_ieas = get_ieas(feature_map)"
   ]
  },
  {
   "cell_type": "code",
   "execution_count": 29,
   "metadata": {},
   "outputs": [],
   "source": [
    "new_symbols = [iea[i] for i in all_ieas]"
   ]
  },
  {
   "cell_type": "code",
   "execution_count": 43,
   "metadata": {},
   "outputs": [
    {
     "data": {
      "text/plain": [
       "array([['.', '#', '#', '#', '.'],\n",
       "       ['.', '.', '#', '.', '#'],\n",
       "       ['#', '#', '#', '.', '#'],\n",
       "       ['.', '.', '.', '#', '.'],\n",
       "       ['#', '.', '.', '#', '.']], dtype='<U1')"
      ]
     },
     "execution_count": 43,
     "metadata": {},
     "output_type": "execute_result"
    }
   ],
   "source": [
    "new_array = np.reshape(new_symbols, (5,5))\n",
    "new_array"
   ]
  },
  {
   "cell_type": "code",
   "execution_count": 44,
   "metadata": {},
   "outputs": [],
   "source": [
    "new_grid = np.pad(new_array, pad_width=1, mode='constant', constant_values='#')"
   ]
  },
  {
   "cell_type": "code",
   "execution_count": 45,
   "metadata": {},
   "outputs": [
    {
     "data": {
      "text/plain": [
       "array([['#', '#', '#', '#', '#', '#', '#'],\n",
       "       ['#', '.', '#', '#', '#', '.', '#'],\n",
       "       ['#', '.', '.', '#', '.', '#', '#'],\n",
       "       ['#', '#', '#', '#', '.', '#', '#'],\n",
       "       ['#', '.', '.', '.', '#', '.', '#'],\n",
       "       ['#', '#', '.', '.', '#', '.', '#'],\n",
       "       ['#', '#', '#', '#', '#', '#', '#']], dtype='<U1')"
      ]
     },
     "execution_count": 45,
     "metadata": {},
     "output_type": "execute_result"
    }
   ],
   "source": [
    "new_grid"
   ]
  },
  {
   "cell_type": "code",
   "execution_count": 46,
   "metadata": {},
   "outputs": [],
   "source": [
    "feature_map2 = get_grids(new_grid)\n",
    "all_ieas2 = get_ieas(feature_map2)\n",
    "new_symbols2 = [iea[i] for i in all_ieas2]"
   ]
  },
  {
   "cell_type": "code",
   "execution_count": 47,
   "metadata": {},
   "outputs": [],
   "source": [
    "final_array = np.reshape(new_symbols2, (5,5))"
   ]
  },
  {
   "cell_type": "code",
   "execution_count": 48,
   "metadata": {},
   "outputs": [
    {
     "data": {
      "text/plain": [
       "array([['.', '#', '.', '#', '.'],\n",
       "       ['.', '#', '#', '#', '.'],\n",
       "       ['.', '.', '.', '.', '#'],\n",
       "       ['#', '.', '#', '.', '#'],\n",
       "       ['.', '#', '.', '#', '#']], dtype='<U1')"
      ]
     },
     "execution_count": 48,
     "metadata": {},
     "output_type": "execute_result"
    }
   ],
   "source": [
    "final_array"
   ]
  },
  {
   "cell_type": "code",
   "execution_count": null,
   "metadata": {},
   "outputs": [],
   "source": []
  }
 ],
 "metadata": {
  "interpreter": {
   "hash": "99b8d0b9a9270acdc7b52d3eeb226e48ce2ee471221e21ec906b8eac9bbd4813"
  },
  "kernelspec": {
   "display_name": "Python 3.8.12 64-bit ('aoc': conda)",
   "language": "python",
   "name": "python3"
  },
  "language_info": {
   "codemirror_mode": {
    "name": "ipython",
    "version": 3
   },
   "file_extension": ".py",
   "mimetype": "text/x-python",
   "name": "python",
   "nbconvert_exporter": "python",
   "pygments_lexer": "ipython3",
   "version": "3.8.12"
  },
  "orig_nbformat": 4
 },
 "nbformat": 4,
 "nbformat_minor": 2
}
