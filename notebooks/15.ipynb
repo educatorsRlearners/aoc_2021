{
 "cells": [
  {
   "cell_type": "code",
   "execution_count": 9,
   "metadata": {},
   "outputs": [],
   "source": [
    "import numpy as np \n",
    "from queue import PriorityQueue"
   ]
  },
  {
   "cell_type": "code",
   "execution_count": 35,
   "metadata": {},
   "outputs": [],
   "source": [
    "file_path = \"../data/day_15_sample.txt\"\n",
    "# file_path = \"../data/day_15.txt\""
   ]
  },
  {
   "cell_type": "code",
   "execution_count": 36,
   "metadata": {},
   "outputs": [],
   "source": [
    "def get_data(file_path):\n",
    "    with open(file_path) as file:\n",
    "        lines = file.read().splitlines()\n",
    "    master_list = []\n",
    "    for line in lines:\n",
    "        new_lines = [int(l) for l in line]\n",
    "        master_list.append(new_lines)\n",
    "    grid = np.array(master_list)\n",
    "    return grid"
   ]
  },
  {
   "cell_type": "code",
   "execution_count": 37,
   "metadata": {},
   "outputs": [],
   "source": [
    "grid = get_data(file_path)\n",
    "# grid"
   ]
  },
  {
   "cell_type": "markdown",
   "metadata": {},
   "source": [
    "Solution minimally adapted from [here](https://www.reddit.com/r/adventofcode/comments/rgqzt5/comment/hoo0b11/?utm_source=share&utm_medium=web2x&context=3)"
   ]
  },
  {
   "cell_type": "code",
   "execution_count": 38,
   "metadata": {},
   "outputs": [
    {
     "data": {
      "text/plain": [
       "True"
      ]
     },
     "execution_count": 38,
     "metadata": {},
     "output_type": "execute_result"
    }
   ],
   "source": [
    "len(grid[0]) == grid.shape[1]"
   ]
  },
  {
   "cell_type": "code",
   "execution_count": 43,
   "metadata": {},
   "outputs": [],
   "source": [
    "# solved using priority queue\n",
    "def solve_dis(grid):\n",
    "    height, width = grid.shape[0], grid.shape[1]\n",
    "    pq = PriorityQueue()\n",
    "    # Add starting position in priority queue\n",
    "    pq.put((0, (0, 0)))\n",
    "    visited = {(0, 0), }\n",
    "    while pq:\n",
    "        curr_risk, (i, j) = pq.get()\n",
    "        directions = [(i + 1, j), (i - 1, j), (i, j + 1), (i, j - 1)]\n",
    "        # Once we reach the end of the grid, we can stop and return the risk\n",
    "        if i == height - 1 and j == width - 1:\n",
    "            return curr_risk\n",
    "        for x, y in directions:\n",
    "            if 0 <= x < height and 0 <= y < width and (x, y) not in visited:\n",
    "                weight = grid[x][y]\n",
    "                pq.put((curr_risk + weight, (x, y)))\n",
    "                visited.add((x, y))\n",
    "\n",
    "\n",
    "def make_big_grid():\n",
    "    # Using dict to map weights {1: 2, 2: 3, 3: 4, 4: 5, 5: 6, 6: 7, 7: 8, 8: 9, 9: 1}\n",
    "    d = {i: j % 10 if j % 10 != 0 else 1 for i, j in zip(range(1, 10), range(2, 11))}\n",
    "    big_grid = [lst.copy() for lst in grid]\n",
    "    for _ in range(4):\n",
    "        for i in range(len(grid)):\n",
    "            for j in range(len(grid[0])):\n",
    "                big_grid[i].append(d[big_grid[i][j + len(grid) * _]])\n",
    "    for _ in range(4):\n",
    "        for i in range(len(grid)):\n",
    "            new_list = list()\n",
    "            for j in range(len(big_grid[0])):\n",
    "                new_list.append(d[big_grid[i + len(grid) * _][j]])\n",
    "            big_grid.append(new_list)\n",
    "    return big_grid\n",
    "\n"
   ]
  },
  {
   "cell_type": "code",
   "execution_count": 44,
   "metadata": {},
   "outputs": [
    {
     "name": "stdout",
     "output_type": "stream",
     "text": [
      "40\n"
     ]
    }
   ],
   "source": [
    "print(solve_dis(grid))"
   ]
  },
  {
   "cell_type": "code",
   "execution_count": null,
   "metadata": {},
   "outputs": [],
   "source": []
  }
 ],
 "metadata": {
  "interpreter": {
   "hash": "99b8d0b9a9270acdc7b52d3eeb226e48ce2ee471221e21ec906b8eac9bbd4813"
  },
  "kernelspec": {
   "display_name": "Python 3.8.12 64-bit ('aoc': conda)",
   "language": "python",
   "name": "python3"
  },
  "language_info": {
   "codemirror_mode": {
    "name": "ipython",
    "version": 3
   },
   "file_extension": ".py",
   "mimetype": "text/x-python",
   "name": "python",
   "nbconvert_exporter": "python",
   "pygments_lexer": "ipython3",
   "version": "3.8.12"
  },
  "orig_nbformat": 4
 },
 "nbformat": 4,
 "nbformat_minor": 2
}
