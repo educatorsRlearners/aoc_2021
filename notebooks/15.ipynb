{
 "cells": [
  {
   "cell_type": "code",
   "execution_count": 1,
   "metadata": {},
   "outputs": [],
   "source": [
    "import numpy as np \n",
    "from skimage import graph"
   ]
  },
  {
   "cell_type": "code",
   "execution_count": 2,
   "metadata": {},
   "outputs": [],
   "source": [
    "file_path = \"../data/day_15_sample.txt\"\n",
    "# file_path = \"../data/day_15.txt\""
   ]
  },
  {
   "cell_type": "code",
   "execution_count": 3,
   "metadata": {},
   "outputs": [],
   "source": [
    "def get_data(file_path):\n",
    "    with open(file_path) as file:\n",
    "        lines = file.read().splitlines()\n",
    "    master_list = []\n",
    "    for line in lines:\n",
    "        new_lines = [int(l) for l in line]\n",
    "        master_list.append(new_lines)\n",
    "    grid = np.array(master_list)\n",
    "    return grid"
   ]
  },
  {
   "cell_type": "code",
   "execution_count": 4,
   "metadata": {},
   "outputs": [
    {
     "data": {
      "text/plain": [
       "array([[1, 1, 6, 3, 7, 5, 1, 7, 4, 2],\n",
       "       [1, 3, 8, 1, 3, 7, 3, 6, 7, 2],\n",
       "       [2, 1, 3, 6, 5, 1, 1, 3, 2, 8],\n",
       "       [3, 6, 9, 4, 9, 3, 1, 5, 6, 9],\n",
       "       [7, 4, 6, 3, 4, 1, 7, 1, 1, 1],\n",
       "       [1, 3, 1, 9, 1, 2, 8, 1, 3, 7],\n",
       "       [1, 3, 5, 9, 9, 1, 2, 4, 2, 1],\n",
       "       [3, 1, 2, 5, 4, 2, 1, 6, 3, 9],\n",
       "       [1, 2, 9, 3, 1, 3, 8, 5, 2, 1],\n",
       "       [2, 3, 1, 1, 9, 4, 4, 5, 8, 1]])"
      ]
     },
     "execution_count": 4,
     "metadata": {},
     "output_type": "execute_result"
    }
   ],
   "source": [
    "caves = get_data(file_path)\n",
    "caves"
   ]
  },
  {
   "cell_type": "markdown",
   "metadata": {},
   "source": [
    "Solution minimally adapted from [here](https://www.reddit.com/r/adventofcode/comments/rgqzt5/comment/honx25x/?utm_source=share&utm_medium=web2x&context=3)"
   ]
  },
  {
   "cell_type": "code",
   "execution_count": 5,
   "metadata": {},
   "outputs": [
    {
     "name": "stdout",
     "output_type": "stream",
     "text": [
      "40\n"
     ]
    }
   ],
   "source": [
    "# Part 1\n",
    "cost = graph.MCP(caves,fully_connected=False)\n",
    "cost.find_costs(starts=[(0,0)])\n",
    "\n",
    "dimensions = (caves.shape[1] - 1, caves.shape[0] - 1)\n",
    "\n",
    "print(sum([caves[loc] for loc in cost.traceback(dimensions)[1:]]))"
   ]
  },
  {
   "cell_type": "code",
   "execution_count": 6,
   "metadata": {},
   "outputs": [
    {
     "data": {
      "text/plain": [
       "array([[99,  0,  0,  0,  0,  0,  0,  0,  0,  0],\n",
       "       [99,  0,  0,  0,  0,  0,  0,  0,  0,  0],\n",
       "       [99, 99, 99, 99, 99, 99, 99,  0,  0,  0],\n",
       "       [ 0,  0,  0,  0,  0,  0, 99, 99,  0,  0],\n",
       "       [ 0,  0,  0,  0,  0,  0,  0, 99,  0,  0],\n",
       "       [ 0,  0,  0,  0,  0,  0,  0, 99, 99,  0],\n",
       "       [ 0,  0,  0,  0,  0,  0,  0,  0, 99,  0],\n",
       "       [ 0,  0,  0,  0,  0,  0,  0,  0, 99,  0],\n",
       "       [ 0,  0,  0,  0,  0,  0,  0,  0, 99, 99],\n",
       "       [ 0,  0,  0,  0,  0,  0,  0,  0,  0, 99]])"
      ]
     },
     "execution_count": 6,
     "metadata": {},
     "output_type": "execute_result"
    }
   ],
   "source": [
    "from skimage.graph import route_through_array\n",
    "\n",
    "indices, weight = route_through_array(caves, \n",
    "                                      (0, 0), (9,9), \n",
    "                                      fully_connected=False)\n",
    "indices = np.array(indices).T\n",
    "path = np.zeros_like(caves)\n",
    "path[indices[0], indices[1]] = 99\n",
    "path"
   ]
  },
  {
   "cell_type": "code",
   "execution_count": 7,
   "metadata": {},
   "outputs": [
    {
     "name": "stdout",
     "output_type": "stream",
     "text": [
      "315\n"
     ]
    }
   ],
   "source": [
    "# Setup Part 2 map\n",
    "bigRow = caves\n",
    "for i in range(1,5):\n",
    "    bigRow = np.concatenate([bigRow,(caves+i)],axis=1)\n",
    "maze = bigRow\n",
    "for i in range(1,5):\n",
    "    maze = np.concatenate([maze,(bigRow+i)])\n",
    "maze %= 9\n",
    "maze[maze==0] = 9\n",
    "\n",
    "dimensions_expanded = (maze.shape[1] - 1, maze.shape[0] - 1)\n",
    "\n",
    "cost2 = graph.MCP(maze,fully_connected=False)\n",
    "cost2.find_costs(starts=[(0,0)])\n",
    "print(sum ([maze[loc] for loc in  cost2.traceback(dimensions_expanded)[1:]])) # Part 2"
   ]
  },
  {
   "cell_type": "code",
   "execution_count": null,
   "metadata": {},
   "outputs": [],
   "source": []
  }
 ],
 "metadata": {
  "interpreter": {
   "hash": "99b8d0b9a9270acdc7b52d3eeb226e48ce2ee471221e21ec906b8eac9bbd4813"
  },
  "kernelspec": {
   "display_name": "Python 3.8.12 64-bit ('aoc': conda)",
   "language": "python",
   "name": "python3"
  },
  "language_info": {
   "codemirror_mode": {
    "name": "ipython",
    "version": 3
   },
   "file_extension": ".py",
   "mimetype": "text/x-python",
   "name": "python",
   "nbconvert_exporter": "python",
   "pygments_lexer": "ipython3",
   "version": "3.8.12"
  },
  "orig_nbformat": 4
 },
 "nbformat": 4,
 "nbformat_minor": 2
}
