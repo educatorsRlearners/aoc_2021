{
 "cells": [
  {
   "cell_type": "code",
   "execution_count": 11,
   "metadata": {},
   "outputs": [
    {
     "data": {
      "text/plain": [
       "'110100101111111000101000'"
      ]
     },
     "execution_count": 11,
     "metadata": {},
     "output_type": "execute_result"
    }
   ],
   "source": [
    "hexadecimal = \"D2FE28\"\n",
    "end_length = len(hexadecimal) * 4\n",
    "\n",
    "hex_as_int = int(hexadecimal, 16)\n",
    "hex_as_binary = bin(hex_as_int)\n",
    "\n",
    "# Use zfill to pad the binary string with zeros\n",
    "padded_binary = hex_as_binary[2:].zfill(end_length)\n",
    "\n",
    "padded_binary"
   ]
  },
  {
   "cell_type": "markdown",
   "metadata": {},
   "source": [
    "And that is as far as I go with this one today :D \n",
    "\n",
    "To see some truly amazing solutions, click [here](https://www.reddit.com/r/adventofcode/comments/r66wgb/aoc_2021_adventure_time/)"
   ]
  }
 ],
 "metadata": {
  "interpreter": {
   "hash": "99b8d0b9a9270acdc7b52d3eeb226e48ce2ee471221e21ec906b8eac9bbd4813"
  },
  "kernelspec": {
   "display_name": "Python 3.8.12 64-bit ('aoc': conda)",
   "language": "python",
   "name": "python3"
  },
  "language_info": {
   "codemirror_mode": {
    "name": "ipython",
    "version": 3
   },
   "file_extension": ".py",
   "mimetype": "text/x-python",
   "name": "python",
   "nbconvert_exporter": "python",
   "pygments_lexer": "ipython3",
   "version": "3.8.12"
  },
  "orig_nbformat": 4
 },
 "nbformat": 4,
 "nbformat_minor": 2
}
