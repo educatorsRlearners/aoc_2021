{
 "cells": [
  {
   "cell_type": "code",
   "execution_count": 1,
   "metadata": {},
   "outputs": [],
   "source": [
    "import pandas as pd"
   ]
  },
  {
   "cell_type": "code",
   "execution_count": 2,
   "metadata": {},
   "outputs": [],
   "source": [
    "input_columns = [\"input_\" + str(i) for i in range(10)]\n",
    "ouptput_columns = [\"output_\" + str(i) for i in range(4)]\n",
    "\n",
    "names = input_columns +[\"divider\"]+ ouptput_columns"
   ]
  },
  {
   "cell_type": "code",
   "execution_count": 3,
   "metadata": {},
   "outputs": [],
   "source": [
    "df_test = pd.read_csv('../data/day_8_test.txt',\n",
    "                      sep=' ', \n",
    "                      names=names)"
   ]
  },
  {
   "cell_type": "code",
   "execution_count": 4,
   "metadata": {},
   "outputs": [
    {
     "data": {
      "text/html": [
       "<div>\n",
       "<style scoped>\n",
       "    .dataframe tbody tr th:only-of-type {\n",
       "        vertical-align: middle;\n",
       "    }\n",
       "\n",
       "    .dataframe tbody tr th {\n",
       "        vertical-align: top;\n",
       "    }\n",
       "\n",
       "    .dataframe thead th {\n",
       "        text-align: right;\n",
       "    }\n",
       "</style>\n",
       "<table border=\"1\" class=\"dataframe\">\n",
       "  <thead>\n",
       "    <tr style=\"text-align: right;\">\n",
       "      <th></th>\n",
       "      <th>input_0</th>\n",
       "      <th>input_1</th>\n",
       "      <th>input_2</th>\n",
       "      <th>input_3</th>\n",
       "      <th>input_4</th>\n",
       "      <th>input_5</th>\n",
       "      <th>input_6</th>\n",
       "      <th>input_7</th>\n",
       "      <th>input_8</th>\n",
       "      <th>input_9</th>\n",
       "      <th>divider</th>\n",
       "      <th>output_0</th>\n",
       "      <th>output_1</th>\n",
       "      <th>output_2</th>\n",
       "      <th>output_3</th>\n",
       "    </tr>\n",
       "  </thead>\n",
       "  <tbody>\n",
       "    <tr>\n",
       "      <th>0</th>\n",
       "      <td>be</td>\n",
       "      <td>cfbegad</td>\n",
       "      <td>cbdgef</td>\n",
       "      <td>fgaecd</td>\n",
       "      <td>cgeb</td>\n",
       "      <td>fdcge</td>\n",
       "      <td>agebfd</td>\n",
       "      <td>fecdb</td>\n",
       "      <td>fabcd</td>\n",
       "      <td>edb</td>\n",
       "      <td>|</td>\n",
       "      <td>fdgacbe</td>\n",
       "      <td>cefdb</td>\n",
       "      <td>cefbgd</td>\n",
       "      <td>gcbe</td>\n",
       "    </tr>\n",
       "    <tr>\n",
       "      <th>1</th>\n",
       "      <td>edbfga</td>\n",
       "      <td>begcd</td>\n",
       "      <td>cbg</td>\n",
       "      <td>gc</td>\n",
       "      <td>gcadebf</td>\n",
       "      <td>fbgde</td>\n",
       "      <td>acbgfd</td>\n",
       "      <td>abcde</td>\n",
       "      <td>gfcbed</td>\n",
       "      <td>gfec</td>\n",
       "      <td>|</td>\n",
       "      <td>fcgedb</td>\n",
       "      <td>cgb</td>\n",
       "      <td>dgebacf</td>\n",
       "      <td>gc</td>\n",
       "    </tr>\n",
       "    <tr>\n",
       "      <th>2</th>\n",
       "      <td>fgaebd</td>\n",
       "      <td>cg</td>\n",
       "      <td>bdaec</td>\n",
       "      <td>gdafb</td>\n",
       "      <td>agbcfd</td>\n",
       "      <td>gdcbef</td>\n",
       "      <td>bgcad</td>\n",
       "      <td>gfac</td>\n",
       "      <td>gcb</td>\n",
       "      <td>cdgabef</td>\n",
       "      <td>|</td>\n",
       "      <td>cg</td>\n",
       "      <td>cg</td>\n",
       "      <td>fdcagb</td>\n",
       "      <td>cbg</td>\n",
       "    </tr>\n",
       "    <tr>\n",
       "      <th>3</th>\n",
       "      <td>fbegcd</td>\n",
       "      <td>cbd</td>\n",
       "      <td>adcefb</td>\n",
       "      <td>dageb</td>\n",
       "      <td>afcb</td>\n",
       "      <td>bc</td>\n",
       "      <td>aefdc</td>\n",
       "      <td>ecdab</td>\n",
       "      <td>fgdeca</td>\n",
       "      <td>fcdbega</td>\n",
       "      <td>|</td>\n",
       "      <td>efabcd</td>\n",
       "      <td>cedba</td>\n",
       "      <td>gadfec</td>\n",
       "      <td>cb</td>\n",
       "    </tr>\n",
       "    <tr>\n",
       "      <th>4</th>\n",
       "      <td>aecbfdg</td>\n",
       "      <td>fbg</td>\n",
       "      <td>gf</td>\n",
       "      <td>bafeg</td>\n",
       "      <td>dbefa</td>\n",
       "      <td>fcge</td>\n",
       "      <td>gcbea</td>\n",
       "      <td>fcaegb</td>\n",
       "      <td>dgceab</td>\n",
       "      <td>fcbdga</td>\n",
       "      <td>|</td>\n",
       "      <td>gecf</td>\n",
       "      <td>egdcabf</td>\n",
       "      <td>bgf</td>\n",
       "      <td>bfgea</td>\n",
       "    </tr>\n",
       "    <tr>\n",
       "      <th>5</th>\n",
       "      <td>fgeab</td>\n",
       "      <td>ca</td>\n",
       "      <td>afcebg</td>\n",
       "      <td>bdacfeg</td>\n",
       "      <td>cfaedg</td>\n",
       "      <td>gcfdb</td>\n",
       "      <td>baec</td>\n",
       "      <td>bfadeg</td>\n",
       "      <td>bafgc</td>\n",
       "      <td>acf</td>\n",
       "      <td>|</td>\n",
       "      <td>gebdcfa</td>\n",
       "      <td>ecba</td>\n",
       "      <td>ca</td>\n",
       "      <td>fadegcb</td>\n",
       "    </tr>\n",
       "    <tr>\n",
       "      <th>6</th>\n",
       "      <td>dbcfg</td>\n",
       "      <td>fgd</td>\n",
       "      <td>bdegcaf</td>\n",
       "      <td>fgec</td>\n",
       "      <td>aegbdf</td>\n",
       "      <td>ecdfab</td>\n",
       "      <td>fbedc</td>\n",
       "      <td>dacgb</td>\n",
       "      <td>gdcebf</td>\n",
       "      <td>gf</td>\n",
       "      <td>|</td>\n",
       "      <td>cefg</td>\n",
       "      <td>dcbef</td>\n",
       "      <td>fcge</td>\n",
       "      <td>gbcadfe</td>\n",
       "    </tr>\n",
       "    <tr>\n",
       "      <th>7</th>\n",
       "      <td>bdfegc</td>\n",
       "      <td>cbegaf</td>\n",
       "      <td>gecbf</td>\n",
       "      <td>dfcage</td>\n",
       "      <td>bdacg</td>\n",
       "      <td>ed</td>\n",
       "      <td>bedf</td>\n",
       "      <td>ced</td>\n",
       "      <td>adcbefg</td>\n",
       "      <td>gebcd</td>\n",
       "      <td>|</td>\n",
       "      <td>ed</td>\n",
       "      <td>bcgafe</td>\n",
       "      <td>cdgba</td>\n",
       "      <td>cbgef</td>\n",
       "    </tr>\n",
       "    <tr>\n",
       "      <th>8</th>\n",
       "      <td>egadfb</td>\n",
       "      <td>cdbfeg</td>\n",
       "      <td>cegd</td>\n",
       "      <td>fecab</td>\n",
       "      <td>cgb</td>\n",
       "      <td>gbdefca</td>\n",
       "      <td>cg</td>\n",
       "      <td>fgcdab</td>\n",
       "      <td>egfdb</td>\n",
       "      <td>bfceg</td>\n",
       "      <td>|</td>\n",
       "      <td>gbdfcae</td>\n",
       "      <td>bgc</td>\n",
       "      <td>cg</td>\n",
       "      <td>cgb</td>\n",
       "    </tr>\n",
       "    <tr>\n",
       "      <th>9</th>\n",
       "      <td>gcafb</td>\n",
       "      <td>gcf</td>\n",
       "      <td>dcaebfg</td>\n",
       "      <td>ecagb</td>\n",
       "      <td>gf</td>\n",
       "      <td>abcdeg</td>\n",
       "      <td>gaef</td>\n",
       "      <td>cafbge</td>\n",
       "      <td>fdbac</td>\n",
       "      <td>fegbdc</td>\n",
       "      <td>|</td>\n",
       "      <td>fgae</td>\n",
       "      <td>cfgab</td>\n",
       "      <td>fg</td>\n",
       "      <td>bagce</td>\n",
       "    </tr>\n",
       "  </tbody>\n",
       "</table>\n",
       "</div>"
      ],
      "text/plain": [
       "   input_0  input_1  input_2  input_3  input_4  input_5 input_6 input_7  \\\n",
       "0       be  cfbegad   cbdgef   fgaecd     cgeb    fdcge  agebfd   fecdb   \n",
       "1   edbfga    begcd      cbg       gc  gcadebf    fbgde  acbgfd   abcde   \n",
       "2   fgaebd       cg    bdaec    gdafb   agbcfd   gdcbef   bgcad    gfac   \n",
       "3   fbegcd      cbd   adcefb    dageb     afcb       bc   aefdc   ecdab   \n",
       "4  aecbfdg      fbg       gf    bafeg    dbefa     fcge   gcbea  fcaegb   \n",
       "5    fgeab       ca   afcebg  bdacfeg   cfaedg    gcfdb    baec  bfadeg   \n",
       "6    dbcfg      fgd  bdegcaf     fgec   aegbdf   ecdfab   fbedc   dacgb   \n",
       "7   bdfegc   cbegaf    gecbf   dfcage    bdacg       ed    bedf     ced   \n",
       "8   egadfb   cdbfeg     cegd    fecab      cgb  gbdefca      cg  fgcdab   \n",
       "9    gcafb      gcf  dcaebfg    ecagb       gf   abcdeg    gaef  cafbge   \n",
       "\n",
       "   input_8  input_9 divider output_0 output_1 output_2 output_3  \n",
       "0    fabcd      edb       |  fdgacbe    cefdb   cefbgd     gcbe  \n",
       "1   gfcbed     gfec       |   fcgedb      cgb  dgebacf       gc  \n",
       "2      gcb  cdgabef       |       cg       cg   fdcagb      cbg  \n",
       "3   fgdeca  fcdbega       |   efabcd    cedba   gadfec       cb  \n",
       "4   dgceab   fcbdga       |     gecf  egdcabf      bgf    bfgea  \n",
       "5    bafgc      acf       |  gebdcfa     ecba       ca  fadegcb  \n",
       "6   gdcebf       gf       |     cefg    dcbef     fcge  gbcadfe  \n",
       "7  adcbefg    gebcd       |       ed   bcgafe    cdgba    cbgef  \n",
       "8    egfdb    bfceg       |  gbdfcae      bgc       cg      cgb  \n",
       "9    fdbac   fegbdc       |     fgae    cfgab       fg    bagce  "
      ]
     },
     "execution_count": 4,
     "metadata": {},
     "output_type": "execute_result"
    }
   ],
   "source": [
    "df_test.head(10)"
   ]
  },
  {
   "cell_type": "code",
   "execution_count": 5,
   "metadata": {},
   "outputs": [
    {
     "data": {
      "text/html": [
       "<div>\n",
       "<style scoped>\n",
       "    .dataframe tbody tr th:only-of-type {\n",
       "        vertical-align: middle;\n",
       "    }\n",
       "\n",
       "    .dataframe tbody tr th {\n",
       "        vertical-align: top;\n",
       "    }\n",
       "\n",
       "    .dataframe thead th {\n",
       "        text-align: right;\n",
       "    }\n",
       "</style>\n",
       "<table border=\"1\" class=\"dataframe\">\n",
       "  <thead>\n",
       "    <tr style=\"text-align: right;\">\n",
       "      <th></th>\n",
       "      <th>output_0</th>\n",
       "      <th>output_1</th>\n",
       "      <th>output_2</th>\n",
       "      <th>output_3</th>\n",
       "    </tr>\n",
       "  </thead>\n",
       "  <tbody>\n",
       "    <tr>\n",
       "      <th>0</th>\n",
       "      <td>fdgacbe</td>\n",
       "      <td>cefdb</td>\n",
       "      <td>cefbgd</td>\n",
       "      <td>gcbe</td>\n",
       "    </tr>\n",
       "    <tr>\n",
       "      <th>1</th>\n",
       "      <td>fcgedb</td>\n",
       "      <td>cgb</td>\n",
       "      <td>dgebacf</td>\n",
       "      <td>gc</td>\n",
       "    </tr>\n",
       "    <tr>\n",
       "      <th>2</th>\n",
       "      <td>cg</td>\n",
       "      <td>cg</td>\n",
       "      <td>fdcagb</td>\n",
       "      <td>cbg</td>\n",
       "    </tr>\n",
       "    <tr>\n",
       "      <th>3</th>\n",
       "      <td>efabcd</td>\n",
       "      <td>cedba</td>\n",
       "      <td>gadfec</td>\n",
       "      <td>cb</td>\n",
       "    </tr>\n",
       "    <tr>\n",
       "      <th>4</th>\n",
       "      <td>gecf</td>\n",
       "      <td>egdcabf</td>\n",
       "      <td>bgf</td>\n",
       "      <td>bfgea</td>\n",
       "    </tr>\n",
       "    <tr>\n",
       "      <th>5</th>\n",
       "      <td>gebdcfa</td>\n",
       "      <td>ecba</td>\n",
       "      <td>ca</td>\n",
       "      <td>fadegcb</td>\n",
       "    </tr>\n",
       "    <tr>\n",
       "      <th>6</th>\n",
       "      <td>cefg</td>\n",
       "      <td>dcbef</td>\n",
       "      <td>fcge</td>\n",
       "      <td>gbcadfe</td>\n",
       "    </tr>\n",
       "    <tr>\n",
       "      <th>7</th>\n",
       "      <td>ed</td>\n",
       "      <td>bcgafe</td>\n",
       "      <td>cdgba</td>\n",
       "      <td>cbgef</td>\n",
       "    </tr>\n",
       "    <tr>\n",
       "      <th>8</th>\n",
       "      <td>gbdfcae</td>\n",
       "      <td>bgc</td>\n",
       "      <td>cg</td>\n",
       "      <td>cgb</td>\n",
       "    </tr>\n",
       "    <tr>\n",
       "      <th>9</th>\n",
       "      <td>fgae</td>\n",
       "      <td>cfgab</td>\n",
       "      <td>fg</td>\n",
       "      <td>bagce</td>\n",
       "    </tr>\n",
       "  </tbody>\n",
       "</table>\n",
       "</div>"
      ],
      "text/plain": [
       "  output_0 output_1 output_2 output_3\n",
       "0  fdgacbe    cefdb   cefbgd     gcbe\n",
       "1   fcgedb      cgb  dgebacf       gc\n",
       "2       cg       cg   fdcagb      cbg\n",
       "3   efabcd    cedba   gadfec       cb\n",
       "4     gecf  egdcabf      bgf    bfgea\n",
       "5  gebdcfa     ecba       ca  fadegcb\n",
       "6     cefg    dcbef     fcge  gbcadfe\n",
       "7       ed   bcgafe    cdgba    cbgef\n",
       "8  gbdfcae      bgc       cg      cgb\n",
       "9     fgae    cfgab       fg    bagce"
      ]
     },
     "execution_count": 5,
     "metadata": {},
     "output_type": "execute_result"
    }
   ],
   "source": [
    "df_test.loc[:, ouptput_columns]"
   ]
  },
  {
   "cell_type": "code",
   "execution_count": 6,
   "metadata": {},
   "outputs": [],
   "source": [
    "outputs = df_test.loc[:, ouptput_columns].values.tolist()"
   ]
  },
  {
   "cell_type": "code",
   "execution_count": 7,
   "metadata": {},
   "outputs": [],
   "source": [
    "flat_list = [item for sublist in outputs for item in sublist if len(item) == 2 or len(item) == 3 or len(item) == 4 or len(item) == 7]"
   ]
  },
  {
   "cell_type": "code",
   "execution_count": 8,
   "metadata": {},
   "outputs": [
    {
     "data": {
      "text/plain": [
       "26"
      ]
     },
     "execution_count": 8,
     "metadata": {},
     "output_type": "execute_result"
    }
   ],
   "source": [
    "len(flat_list)"
   ]
  },
  {
   "cell_type": "code",
   "execution_count": 9,
   "metadata": {},
   "outputs": [],
   "source": [
    "def get_counts(df):\n",
    "    outputs = df.loc[:, ouptput_columns].values.tolist()\n",
    "    flat_list = [item for sublist in outputs for item in sublist if len(item) == 2 or len(item) == 3 or len(item) == 4 or len(item) == 7]\n",
    "    return len(flat_list)"
   ]
  },
  {
   "cell_type": "code",
   "execution_count": 10,
   "metadata": {},
   "outputs": [
    {
     "data": {
      "text/plain": [
       "26"
      ]
     },
     "execution_count": 10,
     "metadata": {},
     "output_type": "execute_result"
    }
   ],
   "source": [
    "get_counts(df_test)"
   ]
  },
  {
   "cell_type": "code",
   "execution_count": 11,
   "metadata": {},
   "outputs": [],
   "source": [
    "df = pd.read_csv('../data/day_8.txt',\n",
    "                 sep=' ', \n",
    "                 names=names)"
   ]
  },
  {
   "cell_type": "code",
   "execution_count": 12,
   "metadata": {},
   "outputs": [
    {
     "data": {
      "text/plain": [
       "514"
      ]
     },
     "execution_count": 12,
     "metadata": {},
     "output_type": "execute_result"
    }
   ],
   "source": [
    "get_counts(df)"
   ]
  },
  {
   "cell_type": "markdown",
   "metadata": {},
   "source": [
    "## Part II"
   ]
  },
  {
   "cell_type": "code",
   "execution_count": null,
   "metadata": {},
   "outputs": [],
   "source": []
  }
 ],
 "metadata": {
  "interpreter": {
   "hash": "99b8d0b9a9270acdc7b52d3eeb226e48ce2ee471221e21ec906b8eac9bbd4813"
  },
  "kernelspec": {
   "display_name": "Python 3.8.12 64-bit ('aoc': conda)",
   "language": "python",
   "name": "python3"
  },
  "language_info": {
   "codemirror_mode": {
    "name": "ipython",
    "version": 3
   },
   "file_extension": ".py",
   "mimetype": "text/x-python",
   "name": "python",
   "nbconvert_exporter": "python",
   "pygments_lexer": "ipython3",
   "version": "3.8.12"
  },
  "orig_nbformat": 4
 },
 "nbformat": 4,
 "nbformat_minor": 2
}
