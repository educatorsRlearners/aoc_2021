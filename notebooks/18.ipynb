{
 "cells": [
  {
   "cell_type": "markdown",
   "metadata": {},
   "source": [
    "Again, I didn't writ this code. \n",
    "\n",
    "*Why is it here then?*\n",
    "\n",
    "Becasue I'm working my way through it in order to understand and improve. \n",
    "\n",
    "*So where did you get it?*\n",
    "\n",
    "Right [here](https://www.reddit.com/r/adventofcode/comments/rizw2c/comment/hp17suu/?utm_source=share&utm_medium=web2x&context=3)"
   ]
  },
  {
   "cell_type": "code",
   "execution_count": 1,
   "metadata": {},
   "outputs": [],
   "source": [
    "file_path = '../data/day_18.txt'"
   ]
  },
  {
   "cell_type": "code",
   "execution_count": 5,
   "metadata": {},
   "outputs": [
    {
     "name": "stdout",
     "output_type": "stream",
     "text": [
      "Part 1: 4323\n"
     ]
    }
   ],
   "source": [
    "# [[1,2],3] becomes a list of either brackets or numbers, excluding comas:\n",
    "# [ [ 1 2 ] 3 ]\n",
    "\n",
    "import math\n",
    "import re\n",
    "\n",
    "def parse(line):\n",
    "    return re.findall(r\"\\d+|[\\[\\]]\", line)\n",
    "\n",
    "lines = [parse(l.rstrip()) for l in open(file_path).readlines()]\n",
    "\n",
    "def int_to_pair(num):\n",
    "    return [str(math.floor(num / 2)), str(math.ceil(num / 2))]\n",
    "\n",
    "def explode(sfnum, pos):\n",
    "    def seek_digit(sfnum, pos, direction):\n",
    "        while 0 < pos < len(sfnum)-1:\n",
    "            pos += direction\n",
    "            if sfnum[pos].isdigit(): \n",
    "                return pos\n",
    "        return None\n",
    "    a,b = int(sfnum[pos]), int(sfnum[pos+1])\n",
    "    l_pos = seek_digit(sfnum, pos, -1)\n",
    "    r_pos = seek_digit(sfnum, pos+1, +1)\n",
    "    if l_pos: \n",
    "        sfnum[l_pos] = str(a + int(sfnum[l_pos]))\n",
    "    if r_pos: \n",
    "        sfnum[r_pos] = str(b + int(sfnum[r_pos]))\n",
    "    return sfnum[0:pos-1] + ['0'] + sfnum[pos+3:]\n",
    "\n",
    "def split(sfnum, pos):\n",
    "    return sfnum[0:pos] + ['['] + int_to_pair(int(sfnum[pos])) + [']'] + sfnum[pos+1:]\n",
    "\n",
    "def reduce_step(sfnum):\n",
    "    depth = 0\n",
    "    for pos in range(len(sfnum)):\n",
    "        if sfnum[pos] == \"[\": depth += 1\n",
    "        elif sfnum[pos] == \"]\": depth -= 1\n",
    "        elif depth == 5: return explode(sfnum, pos)\n",
    "\n",
    "    for pos in range(len(sfnum)):\n",
    "        if sfnum[pos].isdigit() and int(sfnum[pos]) >= 10: return split(sfnum, pos)\n",
    "    raise EOFError\n",
    "\n",
    "def reduce_fully(sfnum):\n",
    "    while True:\n",
    "        try: sfnum = reduce_step(sfnum)\n",
    "        except EOFError: break\n",
    "    return sfnum\n",
    "\n",
    "def add(a, b): \n",
    "    return ['['] + a + b + [']']\n",
    "\n",
    "def add_list(numbers):\n",
    "    result = numbers.pop(0)\n",
    "    for i in numbers:\n",
    "        result = reduce_fully(add(result, i))\n",
    "    return(result)\n",
    "\n",
    "def magnitude(sfnum):\n",
    "    def p(sfnum):\n",
    "        for i in range(len(sfnum)-1):\n",
    "            if sfnum[i].isdigit() and sfnum[i+1].isdigit():\n",
    "                sfnum = sfnum[0:i-1] + [str(int(sfnum[i]) * 3 + int(sfnum[i+1]) * 2)] + sfnum[i+3:]\n",
    "                return sfnum\n",
    "        raise EOFError\n",
    "    while True:\n",
    "        try: sfnum = p(sfnum)\n",
    "        except EOFError: break\n",
    "    return int(sfnum[0])\n",
    "\n",
    "p1 = magnitude(add_list(lines))\n",
    "\n",
    "print(f\"Part 1: {p1}\")\n",
    "\n"
   ]
  },
  {
   "cell_type": "code",
   "execution_count": 3,
   "metadata": {},
   "outputs": [
    {
     "name": "stdout",
     "output_type": "stream",
     "text": [
      "Part 2: 4749\n"
     ]
    }
   ],
   "source": [
    "## Part 2 #############################################################\n",
    "\n",
    "from itertools import permutations\n",
    "\n",
    "p2 = 0\n",
    "for a, b in permutations(lines, 2):\n",
    "    val = magnitude(add_list([a, b]))\n",
    "    if val > p2: p2 = val\n",
    "\n",
    "print(f\"Part 2: {p2}\")"
   ]
  }
 ],
 "metadata": {
  "interpreter": {
   "hash": "99b8d0b9a9270acdc7b52d3eeb226e48ce2ee471221e21ec906b8eac9bbd4813"
  },
  "kernelspec": {
   "display_name": "Python 3.8.12 64-bit ('aoc': conda)",
   "language": "python",
   "name": "python3"
  },
  "language_info": {
   "codemirror_mode": {
    "name": "ipython",
    "version": 3
   },
   "file_extension": ".py",
   "mimetype": "text/x-python",
   "name": "python",
   "nbconvert_exporter": "python",
   "pygments_lexer": "ipython3",
   "version": "3.8.12"
  },
  "orig_nbformat": 4
 },
 "nbformat": 4,
 "nbformat_minor": 2
}
