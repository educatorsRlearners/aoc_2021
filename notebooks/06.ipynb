{
 "cells": [
  {
   "cell_type": "markdown",
   "metadata": {},
   "source": [
    "Code **slightly** adapted from [here](https://github.com/kresimir-lukin/AdventOfCode2021/blob/main/day06.py)"
   ]
  },
  {
   "cell_type": "code",
   "execution_count": 1,
   "metadata": {},
   "outputs": [],
   "source": [
    "fish1 = [3,4,3,1,2]"
   ]
  },
  {
   "cell_type": "code",
   "execution_count": 2,
   "metadata": {},
   "outputs": [],
   "source": [
    "\n",
    "# open file and read the content in a list\n",
    "with open('../data/day_06.txt', 'r') as f:\n",
    "    # fish = [current_place.rstrip() for current_place in f.readlines()]\n",
    "    input = f.readlines()\n",
    "    \n",
    "fish2 = [int(i) for i in input[0].split(',')]"
   ]
  },
  {
   "cell_type": "code",
   "execution_count": 3,
   "metadata": {},
   "outputs": [],
   "source": [
    "def calc_growth(fish, days):\n",
    "    day_fish = [0] * 9\n",
    "    for day in fish:    \n",
    "        day_fish[day] += 1\n",
    "    for _ in range(days):\n",
    "        new_day_fish_counts = day_fish[1:] + day_fish[:1]\n",
    "        new_day_fish_counts[6] += day_fish[0]\n",
    "        day_fish = new_day_fish_counts\n",
    "    return (sum(day_fish), day_fish)"
   ]
  },
  {
   "cell_type": "code",
   "execution_count": 5,
   "metadata": {},
   "outputs": [
    {
     "name": "stdout",
     "output_type": "stream",
     "text": [
      "(5934, [424, 729, 558, 790, 739, 762, 991, 370, 571])\n",
      "(26984457539, [2376852196, 2731163883, 2897294544, 3164316379, 3541830408, 3681986557, 4275812629, 1985489551, 2329711392])\n"
     ]
    }
   ],
   "source": [
    "print(calc_growth(fish1, 80))\n",
    "print(calc_growth(fish1, 256))\n"
   ]
  },
  {
   "cell_type": "code",
   "execution_count": null,
   "metadata": {},
   "outputs": [],
   "source": []
  }
 ],
 "metadata": {
  "interpreter": {
   "hash": "99b8d0b9a9270acdc7b52d3eeb226e48ce2ee471221e21ec906b8eac9bbd4813"
  },
  "kernelspec": {
   "display_name": "Python 3.8.12 64-bit ('aoc': conda)",
   "language": "python",
   "name": "python3"
  },
  "language_info": {
   "codemirror_mode": {
    "name": "ipython",
    "version": 3
   },
   "file_extension": ".py",
   "mimetype": "text/x-python",
   "name": "python",
   "nbconvert_exporter": "python",
   "pygments_lexer": "ipython3",
   "version": "3.8.12"
  },
  "orig_nbformat": 4
 },
 "nbformat": 4,
 "nbformat_minor": 2
}
