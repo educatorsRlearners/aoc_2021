{
 "cells": [
  {
   "cell_type": "code",
   "execution_count": 60,
   "metadata": {},
   "outputs": [],
   "source": [
    "fish = [3,4,3,1,2]"
   ]
  },
  {
   "cell_type": "code",
   "execution_count": 53,
   "metadata": {},
   "outputs": [],
   "source": [
    "\n",
    "# open file and read the content in a list\n",
    "with open('../data/day_06.txt', 'r') as f:\n",
    "    # fish = [current_place.rstrip() for current_place in f.readlines()]\n",
    "    input = f.readlines()\n",
    "    \n",
    "fish = [int(i) for i in input[0].split(',')]"
   ]
  },
  {
   "cell_type": "code",
   "execution_count": 59,
   "metadata": {},
   "outputs": [
    {
     "name": "stdout",
     "output_type": "stream",
     "text": [
      "5934\n",
      "26984457539\n"
     ]
    }
   ],
   "source": [
    "def calc_growth(fish, days):\n",
    "    day_fish = []\n",
    "    for f in range(9):\n",
    "        day_fish.append(fish.count(f))\n",
    "    for _ in range(days):\n",
    "        next_day_fish = day_fish[1:] + day_fish[:1]\n",
    "        next_day_fish[6] += day_fish[0]\n",
    "        day_fish = next_day_fish\n",
    "    return sum(day_fish)\n",
    "\n",
    "print(calc_growth(fish, 80))\n",
    "print(calc_growth(fish, 256))"
   ]
  },
  {
   "cell_type": "code",
   "execution_count": null,
   "metadata": {},
   "outputs": [],
   "source": []
  }
 ],
 "metadata": {
  "interpreter": {
   "hash": "99b8d0b9a9270acdc7b52d3eeb226e48ce2ee471221e21ec906b8eac9bbd4813"
  },
  "kernelspec": {
   "display_name": "Python 3.8.12 64-bit ('aoc': conda)",
   "language": "python",
   "name": "python3"
  },
  "language_info": {
   "codemirror_mode": {
    "name": "ipython",
    "version": 3
   },
   "file_extension": ".py",
   "mimetype": "text/x-python",
   "name": "python",
   "nbconvert_exporter": "python",
   "pygments_lexer": "ipython3",
   "version": "3.8.12"
  },
  "orig_nbformat": 4
 },
 "nbformat": 4,
 "nbformat_minor": 2
}
